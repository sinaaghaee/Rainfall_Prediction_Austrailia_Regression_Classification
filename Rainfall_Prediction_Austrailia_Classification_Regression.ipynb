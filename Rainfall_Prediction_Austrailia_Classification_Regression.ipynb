{
 "cells": [
  {
   "cell_type": "markdown",
   "id": "b425a3bb",
   "metadata": {},
   "source": [
    "<center>\n",
    "    <img src=\"https://github.com/sinaaghaee/ProcessMiningProject-CustomerBehaviorAnalysis/blob/main/Images/Sharif_Logo.png?raw=true\" width=\"250\"   />\n",
    "</center>"
   ]
  },
  {
   "cell_type": "markdown",
   "id": "814d41fb",
   "metadata": {},
   "source": [
    "# Data-Driven Decison-Making Project - Rainfall Prediction"
   ]
  },
  {
   "cell_type": "markdown",
   "id": "4952fdff",
   "metadata": {},
   "source": [
    " ## Course Info:\n",
    " \n",
    " **Student/Analyst:**  Sina Aghaee <br>\n",
    " **Course:** Data-Driven Decison-Making 1399-1400 <br>\n",
    " **Institution:** Sharif University of Technology, Department of Industrial Engineering <br>\n",
    " **Instructor:**  Dr. Nafiseh Sedghi \n"
   ]
  },
  {
   "cell_type": "markdown",
   "id": "01a4c34e",
   "metadata": {},
   "source": [
    "## Introduction\n",
    " "
   ]
  },
  {
   "cell_type": "code",
   "execution_count": 44,
   "id": "64c938ea",
   "metadata": {},
   "outputs": [],
   "source": [
    "# Turning off the warnings\n",
    "options(warn=-1)\n",
    "\n",
    "# Changing the default size of the plots we are going to draw\n",
    "options(repr.plot.width=15, repr.plot.height=8)\n",
    "\n",
    "# Importing required libraries\n",
    "library(ggplot2)\n",
    "library(naniar)\n",
    "library(plyr)\n",
    "library(rpart)\n",
    "library(rpart.plot)\n",
    "library(caret)\n",
    "library(e1071)\n",
    "library(lattice)\n",
    "library(randomForest"
   ]
  },
  {
   "cell_type": "code",
   "execution_count": 2,
   "id": "cbd0ea3a",
   "metadata": {
    "scrolled": false
   },
   "outputs": [
    {
     "name": "stdout",
     "output_type": "stream",
     "text": [
      "'data.frame':\t145460 obs. of  23 variables:\n",
      " $ Date         : Date, format: \"2008-12-01\" \"2008-12-02\" ...\n",
      " $ Location     : chr  \"Albury\" \"Albury\" \"Albury\" \"Albury\" ...\n",
      " $ MinTemp      : num  13.4 7.4 12.9 9.2 17.5 14.6 14.3 7.7 9.7 13.1 ...\n",
      " $ MaxTemp      : num  22.9 25.1 25.7 28 32.3 29.7 25 26.7 31.9 30.1 ...\n",
      " $ Rainfall     : num  0.6 0 0 0 1 0.2 0 0 0 1.4 ...\n",
      " $ Evaporation  : num  NA NA NA NA NA NA NA NA NA NA ...\n",
      " $ Sunshine     : num  NA NA NA NA NA NA NA NA NA NA ...\n",
      " $ WindGustDir  : chr  \"W\" \"WNW\" \"WSW\" \"NE\" ...\n",
      " $ WindGustSpeed: int  44 44 46 24 41 56 50 35 80 28 ...\n",
      " $ WindDir9am   : chr  \"W\" \"NNW\" \"W\" \"SE\" ...\n",
      " $ WindDir3pm   : chr  \"WNW\" \"WSW\" \"WSW\" \"E\" ...\n",
      " $ WindSpeed9am : int  20 4 19 11 7 19 20 6 7 15 ...\n",
      " $ WindSpeed3pm : int  24 22 26 9 20 24 24 17 28 11 ...\n",
      " $ Humidity9am  : int  71 44 38 45 82 55 49 48 42 58 ...\n",
      " $ Humidity3pm  : int  22 25 30 16 33 23 19 19 9 27 ...\n",
      " $ Pressure9am  : num  1008 1011 1008 1018 1011 ...\n",
      " $ Pressure3pm  : num  1007 1008 1009 1013 1006 ...\n",
      " $ Cloud9am     : int  8 NA NA NA 7 NA 1 NA NA NA ...\n",
      " $ Cloud3pm     : int  NA NA 2 NA 8 NA NA NA NA NA ...\n",
      " $ Temp9am      : num  16.9 17.2 21 18.1 17.8 20.6 18.1 16.3 18.3 20.1 ...\n",
      " $ Temp3pm      : num  21.8 24.3 23.2 26.5 29.7 28.9 24.6 25.5 30.2 28.2 ...\n",
      " $ RainToday    : chr  \"No\" \"No\" \"No\" \"No\" ...\n",
      " $ RainTomorrow : chr  \"No\" \"No\" \"No\" \"No\" ...\n"
     ]
    }
   ],
   "source": [
    "# EDA Analysis\n",
    "weather <- read.csv('weatherAUS.csv')\n",
    "weather$Date <- as.Date(weather$Date)\n",
    "str(weather"
   ]
  },
  {
   "cell_type": "code",
   "execution_count": 3,
   "id": "fa50f5aa",
   "metadata": {},
   "outputs": [
    {
     "data": {
      "text/plain": [
       "      Date              Location            MinTemp         MaxTemp     \n",
       " Min.   :2007-11-01   Length:145460      Min.   :-8.50   Min.   :-4.80  \n",
       " 1st Qu.:2011-01-11   Class :character   1st Qu.: 7.60   1st Qu.:17.90  \n",
       " Median :2013-06-02   Mode  :character   Median :12.00   Median :22.60  \n",
       " Mean   :2013-04-04                      Mean   :12.19   Mean   :23.22  \n",
       " 3rd Qu.:2015-06-14                      3rd Qu.:16.90   3rd Qu.:28.20  \n",
       " Max.   :2017-06-25                      Max.   :33.90   Max.   :48.10  \n",
       "                                         NA's   :1485    NA's   :1261   \n",
       "    Rainfall        Evaporation        Sunshine     WindGustDir       \n",
       " Min.   :  0.000   Min.   :  0.00   Min.   : 0.00   Length:145460     \n",
       " 1st Qu.:  0.000   1st Qu.:  2.60   1st Qu.: 4.80   Class :character  \n",
       " Median :  0.000   Median :  4.80   Median : 8.40   Mode  :character  \n",
       " Mean   :  2.361   Mean   :  5.47   Mean   : 7.61                     \n",
       " 3rd Qu.:  0.800   3rd Qu.:  7.40   3rd Qu.:10.60                     \n",
       " Max.   :371.000   Max.   :145.00   Max.   :14.50                     \n",
       " NA's   :3261      NA's   :62790    NA's   :69835                     \n",
       " WindGustSpeed     WindDir9am         WindDir3pm         WindSpeed9am   \n",
       " Min.   :  6.00   Length:145460      Length:145460      Min.   :  0.00  \n",
       " 1st Qu.: 31.00   Class :character   Class :character   1st Qu.:  7.00  \n",
       " Median : 39.00   Mode  :character   Mode  :character   Median : 13.00  \n",
       " Mean   : 40.03                                         Mean   : 14.04  \n",
       " 3rd Qu.: 48.00                                         3rd Qu.: 19.00  \n",
       " Max.   :135.00                                         Max.   :130.00  \n",
       " NA's   :10263                                          NA's   :1767    \n",
       "  WindSpeed3pm    Humidity9am      Humidity3pm      Pressure9am    \n",
       " Min.   : 0.00   Min.   :  0.00   Min.   :  0.00   Min.   : 980.5  \n",
       " 1st Qu.:13.00   1st Qu.: 57.00   1st Qu.: 37.00   1st Qu.:1012.9  \n",
       " Median :19.00   Median : 70.00   Median : 52.00   Median :1017.6  \n",
       " Mean   :18.66   Mean   : 68.88   Mean   : 51.54   Mean   :1017.6  \n",
       " 3rd Qu.:24.00   3rd Qu.: 83.00   3rd Qu.: 66.00   3rd Qu.:1022.4  \n",
       " Max.   :87.00   Max.   :100.00   Max.   :100.00   Max.   :1041.0  \n",
       " NA's   :3062    NA's   :2654     NA's   :4507     NA's   :15065   \n",
       "  Pressure3pm        Cloud9am        Cloud3pm        Temp9am     \n",
       " Min.   : 977.1   Min.   :0.00    Min.   :0.00    Min.   :-7.20  \n",
       " 1st Qu.:1010.4   1st Qu.:1.00    1st Qu.:2.00    1st Qu.:12.30  \n",
       " Median :1015.2   Median :5.00    Median :5.00    Median :16.70  \n",
       " Mean   :1015.3   Mean   :4.45    Mean   :4.51    Mean   :16.99  \n",
       " 3rd Qu.:1020.0   3rd Qu.:7.00    3rd Qu.:7.00    3rd Qu.:21.60  \n",
       " Max.   :1039.6   Max.   :9.00    Max.   :9.00    Max.   :40.20  \n",
       " NA's   :15028    NA's   :55888   NA's   :59358   NA's   :1767   \n",
       "    Temp3pm       RainToday         RainTomorrow      \n",
       " Min.   :-5.40   Length:145460      Length:145460     \n",
       " 1st Qu.:16.60   Class :character   Class :character  \n",
       " Median :21.10   Mode  :character   Mode  :character  \n",
       " Mean   :21.68                                        \n",
       " 3rd Qu.:26.40                                        \n",
       " Max.   :46.70                                        \n",
       " NA's   :3609                                         "
      ]
     },
     "metadata": {},
     "output_type": "display_data"
    }
   ],
   "source": [
    "summary(weather)"
   ]
  },
  {
   "cell_type": "code",
   "execution_count": 5,
   "id": "6fc4de07",
   "metadata": {},
   "outputs": [
    {
     "data": {
      "image/png": "[encoded data removed]",
      "text/plain": [
       "plot without title"
      ]
     },
     "metadata": {
      "image/png": {
       "height": 480,
       "width": 900
      }
     },
     "output_type": "display_data"
    }
   ],
   "source": [
    "gg_miss_var(weather) + ggtitle(\"AUS\")+ theme(plot.title = element_text(hjust =0.5))\n"
   ]
  },
  {
   "cell_type": "code",
   "execution_count": 8,
   "id": "902d6fa8",
   "metadata": {},
   "outputs": [
    {
     "data": {
      "image/png": "[encoded data removed]",
      "text/plain": [
       "plot without title"
      ]
     },
     "metadata": {
      "image/png": {
       "height": 480,
       "width": 900
      }
     },
     "output_type": "display_data"
    }
   ],
   "source": [
    "location_count <- count(weather, vars = \"Location\")\n",
    "location_count$Location <- reorder(location_count$Location, location_count$freq)\n",
    "ggplot(data= location_count, aes(x=freq , y= Location)) + geom_bar(stat=\"identity\", color=\"white\") + theme(axis.text.y = element_text(size=6)) + ylab(\"\")\n"
   ]
  },
  {
   "cell_type": "code",
   "execution_count": 9,
   "id": "aecfa21d",
   "metadata": {},
   "outputs": [],
   "source": [
    "weather$RainTomorrow <- as.factor(weather$RainTomorrow)\n",
    "weather$RainToday <- as.factor(weather$RainToday)\n",
    "weather$Location <- as.factor(weather$Location)\n",
    "weather$WindGustDir <- as.factor(weather$WindGustDir)\n",
    "weather$WindDir9am <- as.factor(weather$WindDir9am)\n",
    "weather$WindDir3pm <- as.factor(weather$WindDir3pm)\n",
    "\n",
    "weather1 <- na.omit(weather)"
   ]
  },
  {
   "cell_type": "code",
   "execution_count": 10,
   "id": "4406d742",
   "metadata": {},
   "outputs": [
    {
     "data": {
      "image/png": "[encoded data removed]",
      "text/plain": [
       "plot without title"
      ]
     },
     "metadata": {
      "image/png": {
       "height": 480,
       "width": 900
      }
     },
     "output_type": "display_data"
    }
   ],
   "source": [
    "location_count1 <- count(weather1, vars = \"Location\")\n",
    "location_count1$Location <- reorder(location_count1$Location, location_count1$freq)\n",
    "ggplot(data= location_count1, aes(x=freq , y= Location)) + geom_bar(stat=\"identity\", color=\"white\") + theme(axis.text.y = element_text(size=6)) + ylab(\"\")\n"
   ]
  },
  {
   "cell_type": "code",
   "execution_count": 12,
   "id": "6167730a",
   "metadata": {},
   "outputs": [
    {
     "data": {
      "image/png": "[encoded data removed]",
      "text/plain": [
       "plot without title"
      ]
     },
     "metadata": {
      "image/png": {
       "height": 480,
       "width": 900
      }
     },
     "output_type": "display_data"
    }
   ],
   "source": [
    "perth_withNA <- subset(weather, weather$Location == \"Perth\")\n",
    "vis_miss(perth_withNA)"
   ]
  },
  {
   "cell_type": "code",
   "execution_count": 13,
   "id": "76b5ebac",
   "metadata": {},
   "outputs": [
    {
     "data": {
      "image/png": "[encoded data removed]",
      "text/plain": [
       "plot without title"
      ]
     },
     "metadata": {
      "image/png": {
       "height": 480,
       "width": 900
      }
     },
     "output_type": "display_data"
    }
   ],
   "source": [
    "gg_miss_var(perth_withNA) + ggtitle(\"Perth\")+ theme(plot.title = element_text(hjust =0.5))"
   ]
  },
  {
   "cell_type": "code",
   "execution_count": 14,
   "id": "743dc4b1",
   "metadata": {},
   "outputs": [],
   "source": [
    "perth <- na.omit(perth_withNA)"
   ]
  },
  {
   "cell_type": "code",
   "execution_count": 15,
   "id": "eeb65bed",
   "metadata": {},
   "outputs": [
    {
     "data": {
      "image/png": "[encoded data removed]",
      "text/plain": [
       "plot without title"
      ]
     },
     "metadata": {
      "image/png": {
       "height": 480,
       "width": 900
      }
     },
     "output_type": "display_data"
    }
   ],
   "source": [
    "ggplot(perth, aes(x= RainTomorrow , fill = RainTomorrow )) + geom_histogram(stat=\"count\")"
   ]
  },
  {
   "cell_type": "code",
   "execution_count": 16,
   "id": "5f2f8ca3",
   "metadata": {},
   "outputs": [
    {
     "data": {
      "text/plain": [
       "\n",
       "  No  Yes \n",
       "2409  616 "
      ]
     },
     "metadata": {},
     "output_type": "display_data"
    }
   ],
   "source": [
    "table(perth$RainTomorrow)"
   ]
  },
  {
   "cell_type": "code",
   "execution_count": 17,
   "id": "0ab5b178",
   "metadata": {},
   "outputs": [
    {
     "data": {
      "image/png": "[encoded data removed]",
      "text/plain": [
       "plot without title"
      ]
     },
     "metadata": {
      "image/png": {
       "height": 480,
       "width": 900
      }
     },
     "output_type": "display_data"
    }
   ],
   "source": [
    "ggplot(perth, aes(x= Date , fill = RainTomorrow )) + geom_histogram(stat=\"count\")"
   ]
  },
  {
   "cell_type": "code",
   "execution_count": 18,
   "id": "fe1dccea",
   "metadata": {},
   "outputs": [
    {
     "data": {
      "image/png": "[encoded data removed]",
      "text/plain": [
       "plot without title"
      ]
     },
     "metadata": {
      "image/png": {
       "height": 480,
       "width": 900
      }
     },
     "output_type": "display_data"
    }
   ],
   "source": [
    "ggplot(perth, aes(x= Rainfall, fill = \"red\") ) + geom_histogram( binwidth = 2, color= \"white\") "
   ]
  },
  {
   "cell_type": "code",
   "execution_count": 19,
   "id": "cf2773c0",
   "metadata": {},
   "outputs": [
    {
     "data": {
      "image/png": "[encoded data removed]",
      "text/plain": [
       "plot without title"
      ]
     },
     "metadata": {
      "image/png": {
       "height": 480,
       "width": 900
      }
     },
     "output_type": "display_data"
    }
   ],
   "source": [
    "ggplot(perth, aes(x= Rainfall, fill = \"red\") ) + geom_histogram( bins = 5 , binwidth = 5, color= \"white\") "
   ]
  },
  {
   "cell_type": "code",
   "execution_count": 20,
   "id": "3f170925",
   "metadata": {},
   "outputs": [],
   "source": [
    "########################################################################\n",
    "# 1. Rain prediction\n",
    "########################################################################\n"
   ]
  },
  {
   "cell_type": "code",
   "execution_count": 21,
   "id": "264afcef",
   "metadata": {},
   "outputs": [],
   "source": [
    "# Model Fitting\n",
    "\n",
    "## Splitting Data set into Train and Test sets\n",
    "library(caTools)\n",
    "set.seed(1000)\n",
    "split <- sample.split(perth$RainTomorrow, SplitRatio = 0.8)\n",
    "ClTrain <- subset(perth, split==T,select = -c(Location))\n",
    "ClTest <- subset(perth, split==F,select = -c(Location))"
   ]
  },
  {
   "cell_type": "code",
   "execution_count": 22,
   "id": "b128802d",
   "metadata": {},
   "outputs": [
    {
     "data": {
      "text/plain": [
       "     \n",
       "       No Yes\n",
       "  No  424  58\n",
       "  Yes  62  61"
      ]
     },
     "metadata": {},
     "output_type": "display_data"
    },
    {
     "data": {
      "text/html": [
       "0.801652892561983"
      ],
      "text/latex": [
       "0.801652892561983"
      ],
      "text/markdown": [
       "0.801652892561983"
      ],
      "text/plain": [
       "[1] 0.8016529"
      ]
     },
     "metadata": {},
     "output_type": "display_data"
    }
   ],
   "source": [
    "## Baseline Model\n",
    "Baseline <- table(ClTest$RainTomorrow, ClTest$RainToday)\n",
    "Baseline\n",
    "sum(diag(Baseline))/nrow(ClTest)"
   ]
  },
  {
   "cell_type": "code",
   "execution_count": 23,
   "id": "4aa97c48",
   "metadata": {},
   "outputs": [
    {
     "data": {
      "text/plain": [
       "\n",
       "Call:\n",
       "glm(formula = RainTomorrow ~ . - Date, family = binomial, data = ClTrain)\n",
       "\n",
       "Deviance Residuals: \n",
       "    Min       1Q   Median       3Q      Max  \n",
       "-3.0834  -0.3082  -0.1371  -0.0549   3.3025  \n",
       "\n",
       "Coefficients:\n",
       "                 Estimate Std. Error z value Pr(>|z|)    \n",
       "(Intercept)    200.030226  24.492982   8.167 3.17e-16 ***\n",
       "MinTemp         -0.076823   0.053249  -1.443 0.149104    \n",
       "MaxTemp          0.093565   0.089090   1.050 0.293609    \n",
       "Rainfall         0.006958   0.017803   0.391 0.695927    \n",
       "Evaporation     -0.003478   0.051379  -0.068 0.946034    \n",
       "Sunshine        -0.234902   0.046930  -5.005 5.58e-07 ***\n",
       "WindGustDirENE  -0.965990   0.718905  -1.344 0.179047    \n",
       "WindGustDirESE  -0.092908   0.695693  -0.134 0.893761    \n",
       "WindGustDirN    -0.069474   0.720858  -0.096 0.923221    \n",
       "WindGustDirNE   -0.371626   0.605673  -0.614 0.539496    \n",
       "WindGustDirNNE   0.102007   0.660313   0.154 0.877229    \n",
       "WindGustDirNNW   0.254240   0.770583   0.330 0.741452    \n",
       "WindGustDirNW    0.067752   0.659952   0.103 0.918231    \n",
       "WindGustDirS    -0.948979   0.864639  -1.098 0.272404    \n",
       "WindGustDirSE   -0.815744   0.841767  -0.969 0.332503    \n",
       "WindGustDirSSE  -0.960936   0.775424  -1.239 0.215257    \n",
       "WindGustDirSSW  -0.641216   0.647573  -0.990 0.322085    \n",
       "WindGustDirSW   -0.697101   0.631146  -1.104 0.269376    \n",
       "WindGustDirW     0.120673   0.657938   0.183 0.854476    \n",
       "WindGustDirWNW   0.009070   0.657943   0.014 0.989001    \n",
       "WindGustDirWSW   0.070235   0.637361   0.110 0.912253    \n",
       "WindGustSpeed    0.080999   0.014461   5.601 2.13e-08 ***\n",
       "WindDir9amENE    0.246807   0.465541   0.530 0.596008    \n",
       "WindDir9amESE    0.053356   0.502445   0.106 0.915430    \n",
       "WindDir9amN      1.367743   0.544917   2.510 0.012073 *  \n",
       "WindDir9amNE     0.793859   0.439969   1.804 0.071176 .  \n",
       "WindDir9amNNE    0.979383   0.454495   2.155 0.031171 *  \n",
       "WindDir9amNNW    0.644555   0.758376   0.850 0.395372    \n",
       "WindDir9amNW     0.294305   0.637393   0.462 0.644274    \n",
       "WindDir9amS      0.576517   0.528694   1.090 0.275513    \n",
       "WindDir9amSE     0.403970   0.562616   0.718 0.472744    \n",
       "WindDir9amSSE   -0.761830   0.675497  -1.128 0.259401    \n",
       "WindDir9amSSW    1.010552   0.588912   1.716 0.086169 .  \n",
       "WindDir9amSW     0.651535   0.571696   1.140 0.254431    \n",
       "WindDir9amW      1.063708   0.547353   1.943 0.051972 .  \n",
       "WindDir9amWNW    1.390435   0.606495   2.293 0.021873 *  \n",
       "WindDir9amWSW    0.752543   0.561623   1.340 0.180264    \n",
       "WindDir3pmENE    1.263240   0.777262   1.625 0.104111    \n",
       "WindDir3pmESE    1.126219   0.842347   1.337 0.181222    \n",
       "WindDir3pmN      1.596760   0.829872   1.924 0.054341 .  \n",
       "WindDir3pmNE     0.839302   0.823783   1.019 0.308280    \n",
       "WindDir3pmNNE    1.292193   0.873610   1.479 0.139103    \n",
       "WindDir3pmNNW    1.427905   0.880164   1.622 0.104735    \n",
       "WindDir3pmNW     1.159988   0.801638   1.447 0.147890    \n",
       "WindDir3pmS      0.184621   0.905886   0.204 0.838508    \n",
       "WindDir3pmSE     1.716385   0.817881   2.099 0.035854 *  \n",
       "WindDir3pmSSE   -0.242280   0.967432  -0.250 0.802250    \n",
       "WindDir3pmSSW   -0.340486   0.820002  -0.415 0.677977    \n",
       "WindDir3pmSW     0.311888   0.778291   0.401 0.688616    \n",
       "WindDir3pmW      1.285716   0.768707   1.673 0.094412 .  \n",
       "WindDir3pmWNW    1.523130   0.782008   1.948 0.051449 .  \n",
       "WindDir3pmWSW    0.854046   0.770664   1.108 0.267778    \n",
       "WindSpeed9am    -0.049633   0.025617  -1.938 0.052679 .  \n",
       "WindSpeed3pm     0.016840   0.025835   0.652 0.514501    \n",
       "Humidity9am      0.002270   0.010332   0.220 0.826118    \n",
       "Humidity3pm      0.045116   0.011965   3.771 0.000163 ***\n",
       "Pressure9am      0.273318   0.071650   3.815 0.000136 ***\n",
       "Pressure3pm     -0.474059   0.073093  -6.486 8.83e-11 ***\n",
       "Cloud9am        -0.037746   0.048200  -0.783 0.433562    \n",
       "Cloud3pm         0.089378   0.050190   1.781 0.074944 .  \n",
       "Temp9am         -0.112145   0.077376  -1.449 0.147238    \n",
       "Temp3pm         -0.107165   0.092381  -1.160 0.246034    \n",
       "RainTodayYes     0.617092   0.268161   2.301 0.021380 *  \n",
       "---\n",
       "Signif. codes:  0 '***' 0.001 '**' 0.01 '*' 0.05 '.' 0.1 ' ' 1\n",
       "\n",
       "(Dispersion parameter for binomial family taken to be 1)\n",
       "\n",
       "    Null deviance: 2446.7  on 2419  degrees of freedom\n",
       "Residual deviance: 1017.2  on 2357  degrees of freedom\n",
       "AIC: 1143.2\n",
       "\n",
       "Number of Fisher Scoring iterations: 7\n"
      ]
     },
     "metadata": {},
     "output_type": "display_data"
    }
   ],
   "source": [
    "## Feature Selection For logstic Regression Model\n",
    "logmod <- glm(RainTomorrow ~. -Date , data= ClTrain, family = binomial)\n",
    "summary(logmod)"
   ]
  },
  {
   "cell_type": "code",
   "execution_count": 24,
   "id": "597927a4",
   "metadata": {},
   "outputs": [
    {
     "data": {
      "text/plain": [
       "\n",
       "Call:\n",
       "glm(formula = RainTomorrow ~ . - Date - WindGustDir - WindDir9am - \n",
       "    WindSpeed9am, family = binomial, data = ClTrain)\n",
       "\n",
       "Deviance Residuals: \n",
       "    Min       1Q   Median       3Q      Max  \n",
       "-2.9461  -0.3209  -0.1574  -0.0611   3.2378  \n",
       "\n",
       "Coefficients:\n",
       "                Estimate Std. Error z value Pr(>|z|)    \n",
       "(Intercept)   200.615380  23.611823   8.496  < 2e-16 ***\n",
       "MinTemp        -0.113003   0.049326  -2.291 0.021968 *  \n",
       "MaxTemp         0.088855   0.082549   1.076 0.281749    \n",
       "Rainfall        0.004968   0.017413   0.285 0.775431    \n",
       "Evaporation    -0.023192   0.049737  -0.466 0.641006    \n",
       "Sunshine       -0.252487   0.044804  -5.635 1.75e-08 ***\n",
       "WindGustSpeed   0.069424   0.013011   5.336 9.51e-08 ***\n",
       "WindDir3pmENE   1.281020   0.764850   1.675 0.093961 .  \n",
       "WindDir3pmESE   1.160746   0.816750   1.421 0.155265    \n",
       "WindDir3pmN     2.325248   0.784299   2.965 0.003029 ** \n",
       "WindDir3pmNE    1.194277   0.807015   1.480 0.138908    \n",
       "WindDir3pmNNE   1.728538   0.813338   2.125 0.033567 *  \n",
       "WindDir3pmNNW   2.355601   0.782983   3.008 0.002625 ** \n",
       "WindDir3pmNW    2.238557   0.713939   3.136 0.001716 ** \n",
       "WindDir3pmS     0.075488   0.830419   0.091 0.927569    \n",
       "WindDir3pmSE    1.604700   0.784187   2.046 0.040725 *  \n",
       "WindDir3pmSSE  -0.464664   0.941014  -0.494 0.621454    \n",
       "WindDir3pmSSW  -0.236795   0.743744  -0.318 0.750195    \n",
       "WindDir3pmSW    0.478339   0.699156   0.684 0.493870    \n",
       "WindDir3pmW     2.056783   0.687154   2.993 0.002761 ** \n",
       "WindDir3pmWNW   2.478111   0.700804   3.536 0.000406 ***\n",
       "WindDir3pmWSW   1.392214   0.693608   2.007 0.044728 *  \n",
       "WindSpeed3pm    0.019666   0.025075   0.784 0.432884    \n",
       "Humidity9am     0.008693   0.009334   0.931 0.351634    \n",
       "Humidity3pm     0.043699   0.011541   3.786 0.000153 ***\n",
       "Pressure9am     0.238540   0.067916   3.512 0.000444 ***\n",
       "Pressure3pm    -0.440370   0.068954  -6.386 1.70e-10 ***\n",
       "Cloud9am       -0.034484   0.045757  -0.754 0.451063    \n",
       "Cloud3pm        0.087152   0.047722   1.826 0.067815 .  \n",
       "Temp9am        -0.061439   0.070048  -0.877 0.380438    \n",
       "Temp3pm        -0.115424   0.090590  -1.274 0.202612    \n",
       "RainTodayYes    0.651879   0.258528   2.522 0.011685 *  \n",
       "---\n",
       "Signif. codes:  0 '***' 0.001 '**' 0.01 '*' 0.05 '.' 0.1 ' ' 1\n",
       "\n",
       "(Dispersion parameter for binomial family taken to be 1)\n",
       "\n",
       "    Null deviance: 2446.7  on 2419  degrees of freedom\n",
       "Residual deviance: 1065.1  on 2388  degrees of freedom\n",
       "AIC: 1129.1\n",
       "\n",
       "Number of Fisher Scoring iterations: 7\n"
      ]
     },
     "metadata": {},
     "output_type": "display_data"
    }
   ],
   "source": [
    "logmod1 <- glm(RainTomorrow ~. -Date -WindGustDir -WindDir9am - WindSpeed9am   , data= ClTrain, family = binomial)\n",
    "summary(logmod1)\n"
   ]
  },
  {
   "cell_type": "code",
   "execution_count": 25,
   "id": "199b6980",
   "metadata": {},
   "outputs": [
    {
     "data": {
      "text/plain": [
       "\n",
       "Call:\n",
       "glm(formula = RainTomorrow ~ . - Date - WindGustDir - WindDir9am - \n",
       "    WindSpeed9am - WindDir3pm, family = binomial, data = ClTrain)\n",
       "\n",
       "Deviance Residuals: \n",
       "    Min       1Q   Median       3Q      Max  \n",
       "-2.9017  -0.3784  -0.1877  -0.0702   3.2965  \n",
       "\n",
       "Coefficients:\n",
       "                Estimate Std. Error z value Pr(>|z|)    \n",
       "(Intercept)   235.211648  21.856854  10.761  < 2e-16 ***\n",
       "MinTemp        -0.166411   0.045624  -3.647 0.000265 ***\n",
       "MaxTemp         0.099885   0.078070   1.279 0.200747    \n",
       "Rainfall       -0.008262   0.015409  -0.536 0.591831    \n",
       "Evaporation    -0.126186   0.045360  -2.782 0.005404 ** \n",
       "Sunshine       -0.238270   0.041222  -5.780 7.47e-09 ***\n",
       "WindGustSpeed   0.078597   0.012053   6.521 6.99e-11 ***\n",
       "WindSpeed3pm   -0.013024   0.021774  -0.598 0.549744    \n",
       "Humidity9am     0.004205   0.008935   0.471 0.637925    \n",
       "Humidity3pm     0.053636   0.010576   5.072 3.94e-07 ***\n",
       "Pressure9am     0.292978   0.061784   4.742 2.12e-06 ***\n",
       "Pressure3pm    -0.527926   0.063428  -8.323  < 2e-16 ***\n",
       "Cloud9am        0.008789   0.042478   0.207 0.836077    \n",
       "Cloud3pm        0.090603   0.044451   2.038 0.041523 *  \n",
       "Temp9am        -0.024785   0.066291  -0.374 0.708495    \n",
       "Temp3pm        -0.111621   0.084481  -1.321 0.186414    \n",
       "RainTodayYes    0.708720   0.242044   2.928 0.003411 ** \n",
       "---\n",
       "Signif. codes:  0 '***' 0.001 '**' 0.01 '*' 0.05 '.' 0.1 ' ' 1\n",
       "\n",
       "(Dispersion parameter for binomial family taken to be 1)\n",
       "\n",
       "    Null deviance: 2446.7  on 2419  degrees of freedom\n",
       "Residual deviance: 1178.3  on 2403  degrees of freedom\n",
       "AIC: 1212.3\n",
       "\n",
       "Number of Fisher Scoring iterations: 6\n"
      ]
     },
     "metadata": {},
     "output_type": "display_data"
    }
   ],
   "source": [
    "logmod2 <- glm(RainTomorrow ~. -Date -WindGustDir -WindDir9am - WindSpeed9am -WindDir3pm   , data= ClTrain, family = binomial)\n",
    "summary(logmod2)"
   ]
  },
  {
   "cell_type": "code",
   "execution_count": 26,
   "id": "f1e733b4",
   "metadata": {},
   "outputs": [
    {
     "data": {
      "text/html": [
       "<table class=\"dataframe\">\n",
       "<caption>A matrix: 4 × 4 of type dbl</caption>\n",
       "<thead>\n",
       "\t<tr><th></th><th scope=col>MinTemp</th><th scope=col>Temp9am</th><th scope=col>MaxTemp</th><th scope=col>Temp3pm</th></tr>\n",
       "</thead>\n",
       "<tbody>\n",
       "\t<tr><th scope=row>MinTemp</th><td>1.0000000</td><td>0.8557934</td><td>0.7179862</td><td>0.6735978</td></tr>\n",
       "\t<tr><th scope=row>Temp9am</th><td>0.8557934</td><td>1.0000000</td><td>0.8999983</td><td>0.8430766</td></tr>\n",
       "\t<tr><th scope=row>MaxTemp</th><td>0.7179862</td><td>0.8999983</td><td>1.0000000</td><td>0.9770428</td></tr>\n",
       "\t<tr><th scope=row>Temp3pm</th><td>0.6735978</td><td>0.8430766</td><td>0.9770428</td><td>1.0000000</td></tr>\n",
       "</tbody>\n",
       "</table>\n"
      ],
      "text/latex": [
       "A matrix: 4 × 4 of type dbl\n",
       "\\begin{tabular}{r|llll}\n",
       "  & MinTemp & Temp9am & MaxTemp & Temp3pm\\\\\n",
       "\\hline\n",
       "\tMinTemp & 1.0000000 & 0.8557934 & 0.7179862 & 0.6735978\\\\\n",
       "\tTemp9am & 0.8557934 & 1.0000000 & 0.8999983 & 0.8430766\\\\\n",
       "\tMaxTemp & 0.7179862 & 0.8999983 & 1.0000000 & 0.9770428\\\\\n",
       "\tTemp3pm & 0.6735978 & 0.8430766 & 0.9770428 & 1.0000000\\\\\n",
       "\\end{tabular}\n"
      ],
      "text/markdown": [
       "\n",
       "A matrix: 4 × 4 of type dbl\n",
       "\n",
       "| <!--/--> | MinTemp | Temp9am | MaxTemp | Temp3pm |\n",
       "|---|---|---|---|---|\n",
       "| MinTemp | 1.0000000 | 0.8557934 | 0.7179862 | 0.6735978 |\n",
       "| Temp9am | 0.8557934 | 1.0000000 | 0.8999983 | 0.8430766 |\n",
       "| MaxTemp | 0.7179862 | 0.8999983 | 1.0000000 | 0.9770428 |\n",
       "| Temp3pm | 0.6735978 | 0.8430766 | 0.9770428 | 1.0000000 |\n",
       "\n"
      ],
      "text/plain": [
       "        MinTemp   Temp9am   MaxTemp   Temp3pm  \n",
       "MinTemp 1.0000000 0.8557934 0.7179862 0.6735978\n",
       "Temp9am 0.8557934 1.0000000 0.8999983 0.8430766\n",
       "MaxTemp 0.7179862 0.8999983 1.0000000 0.9770428\n",
       "Temp3pm 0.6735978 0.8430766 0.9770428 1.0000000"
      ]
     },
     "metadata": {},
     "output_type": "display_data"
    },
    {
     "data": {
      "image/png": "[encoded data removed]",
      "text/plain": [
       "plot without title"
      ]
     },
     "metadata": {
      "image/png": {
       "height": 480,
       "width": 900
      }
     },
     "output_type": "display_data"
    }
   ],
   "source": [
    "cor(ClTrain[,c(\"MinTemp\",\"Temp9am\",\"MaxTemp\",\"Temp3pm\")])\n",
    "pairs(ClTrain[,c(\"MinTemp\",\"Temp9am\",\"MaxTemp\",\"Temp3pm\")], col = 14)"
   ]
  },
  {
   "cell_type": "code",
   "execution_count": 27,
   "id": "1ae6f5cc",
   "metadata": {},
   "outputs": [
    {
     "data": {
      "text/plain": [
       "\n",
       "Call:\n",
       "glm(formula = RainTomorrow ~ . - Date - WindGustDir - WindDir9am - \n",
       "    WindSpeed9am - WindDir3pm - Temp3pm - MaxTemp - Temp9am - \n",
       "    Cloud9am, family = binomial, data = ClTrain)\n",
       "\n",
       "Deviance Residuals: \n",
       "    Min       1Q   Median       3Q      Max  \n",
       "-2.9826  -0.3775  -0.1897  -0.0700   3.2592  \n",
       "\n",
       "Coefficients:\n",
       "                Estimate Std. Error z value Pr(>|z|)    \n",
       "(Intercept)   232.100022  20.974040  11.066  < 2e-16 ***\n",
       "MinTemp        -0.189558   0.026303  -7.207 5.73e-13 ***\n",
       "Rainfall       -0.007486   0.015479  -0.484  0.62866    \n",
       "Evaporation    -0.117462   0.044245  -2.655  0.00793 ** \n",
       "Sunshine       -0.242698   0.035011  -6.932 4.15e-12 ***\n",
       "WindGustSpeed   0.080682   0.011792   6.842 7.79e-12 ***\n",
       "WindSpeed3pm   -0.010810   0.021292  -0.508  0.61166    \n",
       "Humidity9am     0.003099   0.006978   0.444  0.65693    \n",
       "Humidity3pm     0.060204   0.007668   7.852 4.10e-15 ***\n",
       "Pressure9am     0.287511   0.055969   5.137 2.79e-07 ***\n",
       "Pressure3pm    -0.519991   0.057054  -9.114  < 2e-16 ***\n",
       "Cloud3pm        0.096974   0.043421   2.233  0.02553 *  \n",
       "RainTodayYes    0.726183   0.239493   3.032  0.00243 ** \n",
       "---\n",
       "Signif. codes:  0 '***' 0.001 '**' 0.01 '*' 0.05 '.' 0.1 ' ' 1\n",
       "\n",
       "(Dispersion parameter for binomial family taken to be 1)\n",
       "\n",
       "    Null deviance: 2446.7  on 2419  degrees of freedom\n",
       "Residual deviance: 1180.3  on 2407  degrees of freedom\n",
       "AIC: 1206.3\n",
       "\n",
       "Number of Fisher Scoring iterations: 6\n"
      ]
     },
     "metadata": {},
     "output_type": "display_data"
    }
   ],
   "source": [
    "logmod3 <- glm(RainTomorrow ~. -Date -WindGustDir -WindDir9am - WindSpeed9am -WindDir3pm -Temp3pm -MaxTemp - Temp9am - Cloud9am, data= ClTrain, family = binomial)\n",
    "summary(logmod3)"
   ]
  },
  {
   "cell_type": "code",
   "execution_count": 28,
   "id": "1f4c0665",
   "metadata": {},
   "outputs": [
    {
     "data": {
      "text/plain": [
       "\n",
       "Call:\n",
       "glm(formula = RainTomorrow ~ . - Date - WindGustDir - WindDir9am - \n",
       "    WindSpeed9am - WindDir3pm - Temp3pm - MaxTemp - Temp9am - \n",
       "    Cloud9am - Rainfall - Humidity9am - WindSpeed3pm, family = binomial, \n",
       "    data = ClTrain)\n",
       "\n",
       "Deviance Residuals: \n",
       "    Min       1Q   Median       3Q      Max  \n",
       "-2.9820  -0.3759  -0.1888  -0.0706   3.2477  \n",
       "\n",
       "Coefficients:\n",
       "                Estimate Std. Error z value Pr(>|z|)    \n",
       "(Intercept)   230.502776  20.784917  11.090  < 2e-16 ***\n",
       "MinTemp        -0.189428   0.026258  -7.214 5.43e-13 ***\n",
       "Evaporation    -0.121880   0.042950  -2.838 0.004543 ** \n",
       "Sunshine       -0.248573   0.033616  -7.394 1.42e-13 ***\n",
       "WindGustSpeed   0.076235   0.009526   8.002 1.22e-15 ***\n",
       "Humidity3pm     0.061262   0.007236   8.467  < 2e-16 ***\n",
       "Pressure9am     0.295139   0.054974   5.369 7.93e-08 ***\n",
       "Pressure3pm    -0.525856   0.056461  -9.314  < 2e-16 ***\n",
       "Cloud3pm        0.095679   0.043014   2.224 0.026122 *  \n",
       "RainTodayYes    0.703373   0.200218   3.513 0.000443 ***\n",
       "---\n",
       "Signif. codes:  0 '***' 0.001 '**' 0.01 '*' 0.05 '.' 0.1 ' ' 1\n",
       "\n",
       "(Dispersion parameter for binomial family taken to be 1)\n",
       "\n",
       "    Null deviance: 2446.7  on 2419  degrees of freedom\n",
       "Residual deviance: 1181.0  on 2410  degrees of freedom\n",
       "AIC: 1201\n",
       "\n",
       "Number of Fisher Scoring iterations: 6\n"
      ]
     },
     "metadata": {},
     "output_type": "display_data"
    }
   ],
   "source": [
    "logmod4 <- glm(RainTomorrow ~. -Date -WindGustDir -WindDir9am - WindSpeed9am -WindDir3pm -Temp3pm -MaxTemp - Temp9am - Cloud9am - Rainfall - Humidity9am  - WindSpeed3pm, data= ClTrain, family = binomial)\n",
    "summary(logmod4)"
   ]
  },
  {
   "cell_type": "code",
   "execution_count": 29,
   "id": "20d7bedd",
   "metadata": {},
   "outputs": [
    {
     "data": {
      "text/html": [
       "<table class=\"dataframe\">\n",
       "<caption>A matrix: 2 × 2 of type dbl</caption>\n",
       "<thead>\n",
       "\t<tr><th></th><th scope=col>Pressure3pm</th><th scope=col>Pressure9am</th></tr>\n",
       "</thead>\n",
       "<tbody>\n",
       "\t<tr><th scope=row>Pressure3pm</th><td>1.0000000</td><td>0.9622503</td></tr>\n",
       "\t<tr><th scope=row>Pressure9am</th><td>0.9622503</td><td>1.0000000</td></tr>\n",
       "</tbody>\n",
       "</table>\n"
      ],
      "text/latex": [
       "A matrix: 2 × 2 of type dbl\n",
       "\\begin{tabular}{r|ll}\n",
       "  & Pressure3pm & Pressure9am\\\\\n",
       "\\hline\n",
       "\tPressure3pm & 1.0000000 & 0.9622503\\\\\n",
       "\tPressure9am & 0.9622503 & 1.0000000\\\\\n",
       "\\end{tabular}\n"
      ],
      "text/markdown": [
       "\n",
       "A matrix: 2 × 2 of type dbl\n",
       "\n",
       "| <!--/--> | Pressure3pm | Pressure9am |\n",
       "|---|---|---|\n",
       "| Pressure3pm | 1.0000000 | 0.9622503 |\n",
       "| Pressure9am | 0.9622503 | 1.0000000 |\n",
       "\n"
      ],
      "text/plain": [
       "            Pressure3pm Pressure9am\n",
       "Pressure3pm 1.0000000   0.9622503  \n",
       "Pressure9am 0.9622503   1.0000000  "
      ]
     },
     "metadata": {},
     "output_type": "display_data"
    },
    {
     "data": {
      "image/png": "[encoded data removed]",
      "text/plain": [
       "plot without title"
      ]
     },
     "metadata": {
      "image/png": {
       "height": 480,
       "width": 900
      }
     },
     "output_type": "display_data"
    }
   ],
   "source": [
    "cor(ClTrain[,c(\"Pressure3pm\",\"Pressure9am\")])\n",
    "pairs(ClTrain[,c(\"Pressure3pm\",\"Pressure9am\")], col = 14)"
   ]
  },
  {
   "cell_type": "code",
   "execution_count": 30,
   "id": "9678704a",
   "metadata": {},
   "outputs": [
    {
     "data": {
      "text/plain": [
       "\n",
       "Call:\n",
       "glm(formula = RainTomorrow ~ . - Date - WindGustDir - WindDir9am - \n",
       "    WindSpeed9am - WindDir3pm - Temp3pm - MaxTemp - Temp9am - \n",
       "    Cloud9am - Rainfall - Humidity9am - WindSpeed3pm, family = binomial, \n",
       "    data = ClTrain)\n",
       "\n",
       "Deviance Residuals: \n",
       "    Min       1Q   Median       3Q      Max  \n",
       "-2.9820  -0.3759  -0.1888  -0.0706   3.2477  \n",
       "\n",
       "Coefficients:\n",
       "                Estimate Std. Error z value Pr(>|z|)    \n",
       "(Intercept)   230.502776  20.784917  11.090  < 2e-16 ***\n",
       "MinTemp        -0.189428   0.026258  -7.214 5.43e-13 ***\n",
       "Evaporation    -0.121880   0.042950  -2.838 0.004543 ** \n",
       "Sunshine       -0.248573   0.033616  -7.394 1.42e-13 ***\n",
       "WindGustSpeed   0.076235   0.009526   8.002 1.22e-15 ***\n",
       "Humidity3pm     0.061262   0.007236   8.467  < 2e-16 ***\n",
       "Pressure9am     0.295139   0.054974   5.369 7.93e-08 ***\n",
       "Pressure3pm    -0.525856   0.056461  -9.314  < 2e-16 ***\n",
       "Cloud3pm        0.095679   0.043014   2.224 0.026122 *  \n",
       "RainTodayYes    0.703373   0.200218   3.513 0.000443 ***\n",
       "---\n",
       "Signif. codes:  0 '***' 0.001 '**' 0.01 '*' 0.05 '.' 0.1 ' ' 1\n",
       "\n",
       "(Dispersion parameter for binomial family taken to be 1)\n",
       "\n",
       "    Null deviance: 2446.7  on 2419  degrees of freedom\n",
       "Residual deviance: 1181.0  on 2410  degrees of freedom\n",
       "AIC: 1201\n",
       "\n",
       "Number of Fisher Scoring iterations: 6\n"
      ]
     },
     "metadata": {},
     "output_type": "display_data"
    }
   ],
   "source": [
    "## Fitting logistic regression model\n",
    "logmod4 <- glm(RainTomorrow ~. -Date -WindGustDir -WindDir9am - WindSpeed9am -WindDir3pm -Temp3pm -MaxTemp - Temp9am - Cloud9am - Rainfall - Humidity9am   - WindSpeed3pm  , data= ClTrain, family = binomial)\n",
    "summary(logmod4)"
   ]
  },
  {
   "cell_type": "code",
   "execution_count": 31,
   "id": "04a90e36",
   "metadata": {},
   "outputs": [
    {
     "data": {
      "text/html": [
       "<style>\n",
       ".dl-inline {width: auto; margin:0; padding: 0}\n",
       ".dl-inline>dt, .dl-inline>dd {float: none; width: auto; display: inline-block}\n",
       ".dl-inline>dt::after {content: \":\\0020\"; padding-right: .5ex}\n",
       ".dl-inline>dt:not(:first-of-type) {padding-left: .5ex}\n",
       "</style><dl class=dl-inline><dt>No</dt><dd>0.0912435212944403</dd><dt>Yes</dt><dd>0.643354431206621</dd></dl>\n"
      ],
      "text/latex": [
       "\\begin{description*}\n",
       "\\item[No] 0.0912435212944403\n",
       "\\item[Yes] 0.643354431206621\n",
       "\\end{description*}\n"
      ],
      "text/markdown": [
       "No\n",
       ":   0.0912435212944403Yes\n",
       ":   0.643354431206621\n",
       "\n"
      ],
      "text/plain": [
       "        No        Yes \n",
       "0.09124352 0.64335443 "
      ]
     },
     "metadata": {},
     "output_type": "display_data"
    }
   ],
   "source": [
    "predicTrain <- predict(logmod4, type=\"response\")\n",
    "tapply(predicTrain, ClTrain$RainTomorrow, mean)"
   ]
  },
  {
   "cell_type": "code",
   "execution_count": 33,
   "id": "0642f0f0",
   "metadata": {},
   "outputs": [
    {
     "data": {
      "image/png": "[encoded data removed]",
      "text/plain": [
       "plot without title"
      ]
     },
     "metadata": {
      "image/png": {
       "height": 480,
       "width": 900
      }
     },
     "output_type": "display_data"
    }
   ],
   "source": [
    "library(ROCR)\n",
    "pred <- prediction(predicTrain, ClTrain$RainTomorrow)\n",
    "perf <- performance(pred, \"tpr\", \"fpr\")\n",
    "plot(perf)\n"
   ]
  },
  {
   "cell_type": "code",
   "execution_count": 34,
   "id": "bf6c1966",
   "metadata": {},
   "outputs": [
    {
     "data": {
      "text/html": [
       "0.901239669421488"
      ],
      "text/latex": [
       "0.901239669421488"
      ],
      "text/markdown": [
       "0.901239669421488"
      ],
      "text/plain": [
       "[1] 0.9012397"
      ]
     },
     "metadata": {},
     "output_type": "display_data"
    }
   ],
   "source": [
    "tlogmod4 <- table(ClTrain$RainTomorrow, predicTrain > 0.6)\n",
    "sum(diag(tlogmod4))/nrow(ClTrain)"
   ]
  },
  {
   "cell_type": "code",
   "execution_count": 35,
   "id": "089e069d",
   "metadata": {},
   "outputs": [
    {
     "data": {
      "text/html": [
       "0.895867768595041"
      ],
      "text/latex": [
       "0.895867768595041"
      ],
      "text/markdown": [
       "0.895867768595041"
      ],
      "text/plain": [
       "[1] 0.8958678"
      ]
     },
     "metadata": {},
     "output_type": "display_data"
    }
   ],
   "source": [
    "test.pred <- predict(logmod4, type = \"response\", newdata = ClTest)\n",
    "tlogmod4t <- table(ClTest$RainTomorrow, test.pred > 0.5)\n",
    "sum(diag(tlogmod4t))/nrow(ClTest)"
   ]
  },
  {
   "cell_type": "code",
   "execution_count": 36,
   "id": "28598eb8",
   "metadata": {},
   "outputs": [
    {
     "data": {
      "text/html": [
       "0.943190635225856"
      ],
      "text/latex": [
       "0.943190635225856"
      ],
      "text/markdown": [
       "0.943190635225856"
      ],
      "text/plain": [
       "[1] 0.9431906"
      ]
     },
     "metadata": {},
     "output_type": "display_data"
    }
   ],
   "source": [
    "predROCR <- prediction(test.pred,ClTest$RainTomorrow)\n",
    "as.numeric(performance(predROCR, \"auc\")@y.values)"
   ]
  },
  {
   "cell_type": "code",
   "execution_count": 39,
   "id": "40cf3dbd",
   "metadata": {},
   "outputs": [
    {
     "data": {
      "text/plain": [
       "CART \n",
       "\n",
       "2420 samples\n",
       "  21 predictor\n",
       "   2 classes: 'No', 'Yes' \n",
       "\n",
       "No pre-processing\n",
       "Resampling: Cross-Validated (10 fold) \n",
       "Summary of sample sizes: 2178, 2177, 2179, 2179, 2178, 2177, ... \n",
       "Resampling results across tuning parameters:\n",
       "\n",
       "  cp     Accuracy   Kappa     \n",
       "  0.001  0.8549999  0.53494783\n",
       "  0.002  0.8566494  0.53736772\n",
       "  0.003  0.8653221  0.56116921\n",
       "  0.004  0.8636743  0.55006651\n",
       "  0.005  0.8644836  0.54633311\n",
       "  0.006  0.8665463  0.54290248\n",
       "  0.007  0.8690257  0.55369337\n",
       "  0.008  0.8682061  0.54733198\n",
       "  0.009  0.8682061  0.54733198\n",
       "  0.010  0.8673797  0.54183515\n",
       "  0.011  0.8682061  0.54386442\n",
       "  0.012  0.8686210  0.54641801\n",
       "  0.013  0.8686210  0.54641801\n",
       "  0.014  0.8686193  0.53964104\n",
       "  0.015  0.8686193  0.53964104\n",
       "  0.016  0.8665566  0.53536962\n",
       "  0.017  0.8665566  0.53536962\n",
       "  0.018  0.8665566  0.53536962\n",
       "  0.019  0.8661400  0.53289666\n",
       "  0.020  0.8661400  0.53289666\n",
       "  0.021  0.8644836  0.52967526\n",
       "  0.022  0.8636606  0.53458934\n",
       "  0.023  0.8644905  0.53743160\n",
       "  0.024  0.8644905  0.53743160\n",
       "  0.025  0.8640772  0.53330660\n",
       "  0.026  0.8640772  0.53150664\n",
       "  0.027  0.8640772  0.53150664\n",
       "  0.028  0.8636657  0.52743487\n",
       "  0.029  0.8636657  0.52743487\n",
       "  0.030  0.8636657  0.52743487\n",
       "  0.031  0.8636657  0.52743487\n",
       "  0.032  0.8640772  0.52753188\n",
       "  0.033  0.8640772  0.52753188\n",
       "  0.034  0.8616081  0.52436314\n",
       "  0.035  0.8616081  0.52436314\n",
       "  0.036  0.8616081  0.52436314\n",
       "  0.037  0.8616081  0.52436314\n",
       "  0.038  0.8616081  0.52436314\n",
       "  0.039  0.8587104  0.51641282\n",
       "  0.040  0.8574656  0.51727337\n",
       "  0.041  0.8549964  0.50547214\n",
       "  0.042  0.8549964  0.50547214\n",
       "  0.043  0.8549964  0.50547214\n",
       "  0.044  0.8549964  0.50547214\n",
       "  0.045  0.8549964  0.50547214\n",
       "  0.046  0.8549964  0.50547214\n",
       "  0.047  0.8549964  0.50547214\n",
       "  0.048  0.8549964  0.50547214\n",
       "  0.049  0.8549964  0.50547214\n",
       "  0.050  0.8549964  0.50547214\n",
       "  0.051  0.8549964  0.50547214\n",
       "  0.052  0.8549964  0.50547214\n",
       "  0.053  0.8549964  0.50547214\n",
       "  0.054  0.8549964  0.50547214\n",
       "  0.055  0.8549964  0.50547214\n",
       "  0.056  0.8549964  0.50547214\n",
       "  0.057  0.8549964  0.50547214\n",
       "  0.058  0.8549964  0.50547214\n",
       "  0.059  0.8549964  0.50547214\n",
       "  0.060  0.8549964  0.50547214\n",
       "  0.061  0.8549964  0.50547214\n",
       "  0.062  0.8549964  0.50547214\n",
       "  0.063  0.8549964  0.50547214\n",
       "  0.064  0.8549964  0.50547214\n",
       "  0.065  0.8549964  0.50547214\n",
       "  0.066  0.8549964  0.50547214\n",
       "  0.067  0.8549964  0.50547214\n",
       "  0.068  0.8529218  0.48879538\n",
       "  0.069  0.8529218  0.48879538\n",
       "  0.070  0.8529218  0.48879538\n",
       "  0.071  0.8529218  0.48879538\n",
       "  0.072  0.8529218  0.48879538\n",
       "  0.073  0.8529218  0.48879538\n",
       "  0.074  0.8529218  0.48879538\n",
       "  0.075  0.8529218  0.48879538\n",
       "  0.076  0.8529218  0.48879538\n",
       "  0.077  0.8529218  0.48879538\n",
       "  0.078  0.8529218  0.48879538\n",
       "  0.079  0.8492028  0.48273358\n",
       "  0.080  0.8492028  0.48273358\n",
       "  0.081  0.8492028  0.48273358\n",
       "  0.082  0.8492028  0.48273358\n",
       "  0.083  0.8492028  0.48273358\n",
       "  0.084  0.8479716  0.45635990\n",
       "  0.085  0.8479716  0.45635990\n",
       "  0.086  0.8479716  0.45635990\n",
       "  0.087  0.8479716  0.45635990\n",
       "  0.088  0.8479716  0.45635990\n",
       "  0.089  0.8479716  0.45635990\n",
       "  0.090  0.8479716  0.45635990\n",
       "  0.091  0.8512774  0.45549580\n",
       "  0.092  0.8512774  0.45549580\n",
       "  0.093  0.8512774  0.45549580\n",
       "  0.094  0.8512774  0.45549580\n",
       "  0.095  0.8492027  0.43457122\n",
       "  0.096  0.8492027  0.43457122\n",
       "  0.097  0.8492027  0.43457122\n",
       "  0.098  0.8492027  0.43457122\n",
       "  0.099  0.8492027  0.43457122\n",
       "  0.100  0.8492027  0.43457122\n",
       "  0.101  0.8492027  0.43457122\n",
       "  0.102  0.8492027  0.43457122\n",
       "  0.103  0.8492027  0.43457122\n",
       "  0.104  0.8492027  0.43457122\n",
       "  0.105  0.8492027  0.43457122\n",
       "  0.106  0.8492027  0.43457122\n",
       "  0.107  0.8492027  0.43457122\n",
       "  0.108  0.8492027  0.43457122\n",
       "  0.109  0.8492027  0.43457122\n",
       "  0.110  0.8492027  0.43457122\n",
       "  0.111  0.8492027  0.43457122\n",
       "  0.112  0.8492027  0.43457122\n",
       "  0.113  0.8492027  0.43457122\n",
       "  0.114  0.8492027  0.43457122\n",
       "  0.115  0.8492027  0.43457122\n",
       "  0.116  0.8492027  0.43457122\n",
       "  0.117  0.8492027  0.43457122\n",
       "  0.118  0.8475498  0.42004513\n",
       "  0.119  0.8475498  0.42004513\n",
       "  0.120  0.8475498  0.42004513\n",
       "  0.121  0.8475498  0.42004513\n",
       "  0.122  0.8475498  0.42004513\n",
       "  0.123  0.8475498  0.42004513\n",
       "  0.124  0.8475498  0.42004513\n",
       "  0.125  0.8475498  0.42004513\n",
       "  0.126  0.8413769  0.36962251\n",
       "  0.127  0.8413769  0.36962251\n",
       "  0.128  0.8413769  0.36962251\n",
       "  0.129  0.8413769  0.36962251\n",
       "  0.130  0.8413769  0.36962251\n",
       "  0.131  0.8360050  0.32705165\n",
       "  0.132  0.8302199  0.27940670\n",
       "  0.133  0.8302199  0.27940670\n",
       "  0.134  0.8302199  0.27940670\n",
       "  0.135  0.8302199  0.27940670\n",
       "  0.136  0.8302199  0.27940670\n",
       "  0.137  0.8302199  0.27940670\n",
       "  0.138  0.8231660  0.23147259\n",
       "  0.139  0.8231660  0.23147259\n",
       "  0.140  0.8169676  0.18372713\n",
       "  0.141  0.8169676  0.18372713\n",
       "  0.142  0.8115957  0.14587580\n",
       "  0.143  0.8115957  0.14587580\n",
       "  0.144  0.8115957  0.14587580\n",
       "  0.145  0.8115957  0.14587580\n",
       "  0.146  0.8115957  0.14587580\n",
       "  0.147  0.8074464  0.11393025\n",
       "  0.148  0.8074464  0.11393025\n",
       "  0.149  0.8074464  0.11393025\n",
       "  0.150  0.8074464  0.11393025\n",
       "  0.151  0.8074464  0.11393025\n",
       "  0.152  0.8074464  0.11393025\n",
       "  0.153  0.8074464  0.11393025\n",
       "  0.154  0.8074464  0.11393025\n",
       "  0.155  0.8074464  0.11393025\n",
       "  0.156  0.8074464  0.11393025\n",
       "  0.157  0.8041542  0.08065358\n",
       "  0.158  0.8041542  0.08065358\n",
       "  0.159  0.8041542  0.08065358\n",
       "  0.160  0.8041542  0.08065358\n",
       "  0.161  0.8041542  0.08065358\n",
       "  0.162  0.8041542  0.08065358\n",
       "  0.163  0.8041542  0.08065358\n",
       "  0.164  0.8041542  0.08065358\n",
       "  0.165  0.8041542  0.08065358\n",
       "  0.166  0.8041542  0.08065358\n",
       "  0.167  0.8041542  0.08065358\n",
       "  0.168  0.8041542  0.08065358\n",
       "  0.169  0.8041542  0.08065358\n",
       "  0.170  0.8041542  0.08065358\n",
       "  0.171  0.8041542  0.08065358\n",
       "  0.172  0.8025081  0.04864628\n",
       "  0.173  0.8025081  0.04864628\n",
       "  0.174  0.8025081  0.04864628\n",
       "  0.175  0.8025081  0.04864628\n",
       "  0.176  0.8025081  0.04864628\n",
       "  0.177  0.8025081  0.04864628\n",
       "  0.178  0.8025081  0.04864628\n",
       "  0.179  0.8025081  0.04864628\n",
       "  0.180  0.8025081  0.04864628\n",
       "  0.181  0.8025081  0.04864628\n",
       "  0.182  0.8025081  0.04864628\n",
       "  0.183  0.8025081  0.04864628\n",
       "  0.184  0.8025081  0.04864628\n",
       "  0.185  0.8025081  0.04864628\n",
       "  0.186  0.8025081  0.04864628\n",
       "  0.187  0.8025081  0.04864628\n",
       "  0.188  0.8025081  0.04864628\n",
       "  0.189  0.8025081  0.04864628\n",
       "  0.190  0.8025081  0.04864628\n",
       "  0.191  0.8025081  0.04864628\n",
       "  0.192  0.8025081  0.04864628\n",
       "  0.193  0.8025081  0.04864628\n",
       "  0.194  0.8025081  0.04864628\n",
       "  0.195  0.8025081  0.04864628\n",
       "  0.196  0.8025081  0.04864628\n",
       "  0.197  0.8025081  0.04864628\n",
       "  0.198  0.8025081  0.04864628\n",
       "  0.199  0.8025081  0.04864628\n",
       "  0.200  0.8025081  0.04864628\n",
       "  0.201  0.8025081  0.04864628\n",
       "  0.202  0.8025081  0.04864628\n",
       "  0.203  0.8025081  0.04864628\n",
       "  0.204  0.8025081  0.04864628\n",
       "  0.205  0.8025081  0.04864628\n",
       "  0.206  0.8025081  0.04864628\n",
       "  0.207  0.8025081  0.04864628\n",
       "  0.208  0.8025081  0.04864628\n",
       "  0.209  0.8025081  0.04864628\n",
       "  0.210  0.8025081  0.04864628\n",
       "  0.211  0.8025081  0.04864628\n",
       "  0.212  0.8025081  0.04864628\n",
       "  0.213  0.8025081  0.04864628\n",
       "  0.214  0.8025081  0.04864628\n",
       "  0.215  0.8025081  0.04864628\n",
       "  0.216  0.8025081  0.04864628\n",
       "  0.217  0.8025081  0.04864628\n",
       "  0.218  0.8025081  0.04864628\n",
       "  0.219  0.8025081  0.04864628\n",
       "  0.220  0.8025081  0.04864628\n",
       "  0.221  0.8025081  0.04864628\n",
       "  0.222  0.8025081  0.04864628\n",
       "  0.223  0.8025081  0.04864628\n",
       "  0.224  0.8025081  0.04864628\n",
       "  0.225  0.8025081  0.04864628\n",
       "  0.226  0.8025081  0.04864628\n",
       "  0.227  0.8025081  0.04864628\n",
       "  0.228  0.8025081  0.04864628\n",
       "  0.229  0.8025081  0.04864628\n",
       "  0.230  0.8025081  0.04864628\n",
       "  0.231  0.8025081  0.04864628\n",
       "  0.232  0.8025081  0.04864628\n",
       "  0.233  0.8025081  0.04864628\n",
       "  0.234  0.8025081  0.04864628\n",
       "  0.235  0.8025081  0.04864628\n",
       "  0.236  0.8025081  0.04864628\n",
       "  0.237  0.8025081  0.04864628\n",
       "  0.238  0.8025081  0.04864628\n",
       "  0.239  0.8025081  0.04864628\n",
       "  0.240  0.8025081  0.04864628\n",
       "  0.241  0.8025081  0.04864628\n",
       "  0.242  0.8025081  0.04864628\n",
       "  0.243  0.8025081  0.04864628\n",
       "  0.244  0.8025081  0.04864628\n",
       "  0.245  0.8025081  0.04864628\n",
       "  0.246  0.8025081  0.04864628\n",
       "  0.247  0.8025081  0.04864628\n",
       "  0.248  0.8025081  0.04864628\n",
       "  0.249  0.8025081  0.04864628\n",
       "  0.250  0.8025081  0.04864628\n",
       "  0.251  0.8025081  0.04864628\n",
       "  0.252  0.8025081  0.04864628\n",
       "  0.253  0.8025081  0.04864628\n",
       "  0.254  0.8025081  0.04864628\n",
       "  0.255  0.8025081  0.04864628\n",
       "  0.256  0.8025081  0.04864628\n",
       "  0.257  0.8025081  0.04864628\n",
       "  0.258  0.8025081  0.04864628\n",
       "  0.259  0.8025081  0.04864628\n",
       "  0.260  0.8025081  0.04864628\n",
       "  0.261  0.8025081  0.04864628\n",
       "  0.262  0.8025081  0.04864628\n",
       "  0.263  0.8025081  0.04864628\n",
       "  0.264  0.8025081  0.04864628\n",
       "  0.265  0.8025081  0.04864628\n",
       "  0.266  0.8025081  0.04864628\n",
       "  0.267  0.8025081  0.04864628\n",
       "  0.268  0.8025081  0.04864628\n",
       "  0.269  0.8025081  0.04864628\n",
       "  0.270  0.8025081  0.04864628\n",
       "  0.271  0.8025081  0.04864628\n",
       "  0.272  0.8025081  0.04864628\n",
       "  0.273  0.8025081  0.04864628\n",
       "  0.274  0.8025081  0.04864628\n",
       "  0.275  0.8025081  0.04864628\n",
       "  0.276  0.8025081  0.04864628\n",
       "  0.277  0.8025081  0.04864628\n",
       "  0.278  0.8025081  0.04864628\n",
       "  0.279  0.8025081  0.04864628\n",
       "  0.280  0.8025081  0.04864628\n",
       "  0.281  0.8025081  0.04864628\n",
       "  0.282  0.8025081  0.04864628\n",
       "  0.283  0.8025081  0.04864628\n",
       "  0.284  0.8025081  0.04864628\n",
       "  0.285  0.8025081  0.04864628\n",
       "  0.286  0.8025081  0.04864628\n",
       "  0.287  0.8025081  0.04864628\n",
       "  0.288  0.8025081  0.04864628\n",
       "  0.289  0.8025081  0.04864628\n",
       "  0.290  0.8025081  0.04864628\n",
       "  0.291  0.8025081  0.04864628\n",
       "  0.292  0.8025081  0.04864628\n",
       "  0.293  0.8025081  0.04864628\n",
       "  0.294  0.8025081  0.04864628\n",
       "  0.295  0.8025081  0.04864628\n",
       "  0.296  0.8025081  0.04864628\n",
       "  0.297  0.8025081  0.04864628\n",
       "  0.298  0.8025081  0.04864628\n",
       "  0.299  0.8025081  0.04864628\n",
       "  0.300  0.8025081  0.04864628\n",
       "  0.301  0.8025081  0.04864628\n",
       "  0.302  0.8025081  0.04864628\n",
       "  0.303  0.8025081  0.04864628\n",
       "  0.304  0.8025081  0.04864628\n",
       "  0.305  0.8025081  0.04864628\n",
       "  0.306  0.8025081  0.04864628\n",
       "  0.307  0.7962840  0.00000000\n",
       "  0.308  0.7962840  0.00000000\n",
       "  0.309  0.7962840  0.00000000\n",
       "  0.310  0.7962840  0.00000000\n",
       "  0.311  0.7962840  0.00000000\n",
       "  0.312  0.7962840  0.00000000\n",
       "  0.313  0.7962840  0.00000000\n",
       "  0.314  0.7962840  0.00000000\n",
       "  0.315  0.7962840  0.00000000\n",
       "  0.316  0.7962840  0.00000000\n",
       "  0.317  0.7962840  0.00000000\n",
       "  0.318  0.7962840  0.00000000\n",
       "  0.319  0.7962840  0.00000000\n",
       "  0.320  0.7962840  0.00000000\n",
       "  0.321  0.7962840  0.00000000\n",
       "  0.322  0.7962840  0.00000000\n",
       "  0.323  0.7962840  0.00000000\n",
       "  0.324  0.7962840  0.00000000\n",
       "  0.325  0.7962840  0.00000000\n",
       "  0.326  0.7962840  0.00000000\n",
       "  0.327  0.7962840  0.00000000\n",
       "  0.328  0.7962840  0.00000000\n",
       "  0.329  0.7962840  0.00000000\n",
       "  0.330  0.7962840  0.00000000\n",
       "  0.331  0.7962840  0.00000000\n",
       "  0.332  0.7962840  0.00000000\n",
       "  0.333  0.7962840  0.00000000\n",
       "  0.334  0.7962840  0.00000000\n",
       "  0.335  0.7962840  0.00000000\n",
       "  0.336  0.7962840  0.00000000\n",
       "  0.337  0.7962840  0.00000000\n",
       "  0.338  0.7962840  0.00000000\n",
       "  0.339  0.7962840  0.00000000\n",
       "  0.340  0.7962840  0.00000000\n",
       "  0.341  0.7962840  0.00000000\n",
       "  0.342  0.7962840  0.00000000\n",
       "  0.343  0.7962840  0.00000000\n",
       "  0.344  0.7962840  0.00000000\n",
       "  0.345  0.7962840  0.00000000\n",
       "  0.346  0.7962840  0.00000000\n",
       "  0.347  0.7962840  0.00000000\n",
       "  0.348  0.7962840  0.00000000\n",
       "  0.349  0.7962840  0.00000000\n",
       "  0.350  0.7962840  0.00000000\n",
       "  0.351  0.7962840  0.00000000\n",
       "  0.352  0.7962840  0.00000000\n",
       "  0.353  0.7962840  0.00000000\n",
       "  0.354  0.7962840  0.00000000\n",
       "  0.355  0.7962840  0.00000000\n",
       "  0.356  0.7962840  0.00000000\n",
       "  0.357  0.7962840  0.00000000\n",
       "  0.358  0.7962840  0.00000000\n",
       "  0.359  0.7962840  0.00000000\n",
       "  0.360  0.7962840  0.00000000\n",
       "  0.361  0.7962840  0.00000000\n",
       "  0.362  0.7962840  0.00000000\n",
       "  0.363  0.7962840  0.00000000\n",
       "  0.364  0.7962840  0.00000000\n",
       "  0.365  0.7962840  0.00000000\n",
       "  0.366  0.7962840  0.00000000\n",
       "  0.367  0.7962840  0.00000000\n",
       "  0.368  0.7962840  0.00000000\n",
       "  0.369  0.7962840  0.00000000\n",
       "  0.370  0.7962840  0.00000000\n",
       "  0.371  0.7962840  0.00000000\n",
       "  0.372  0.7962840  0.00000000\n",
       "  0.373  0.7962840  0.00000000\n",
       "  0.374  0.7962840  0.00000000\n",
       "  0.375  0.7962840  0.00000000\n",
       "  0.376  0.7962840  0.00000000\n",
       "  0.377  0.7962840  0.00000000\n",
       "  0.378  0.7962840  0.00000000\n",
       "  0.379  0.7962840  0.00000000\n",
       "  0.380  0.7962840  0.00000000\n",
       "  0.381  0.7962840  0.00000000\n",
       "  0.382  0.7962840  0.00000000\n",
       "  0.383  0.7962840  0.00000000\n",
       "  0.384  0.7962840  0.00000000\n",
       "  0.385  0.7962840  0.00000000\n",
       "  0.386  0.7962840  0.00000000\n",
       "  0.387  0.7962840  0.00000000\n",
       "  0.388  0.7962840  0.00000000\n",
       "  0.389  0.7962840  0.00000000\n",
       "  0.390  0.7962840  0.00000000\n",
       "  0.391  0.7962840  0.00000000\n",
       "  0.392  0.7962840  0.00000000\n",
       "  0.393  0.7962840  0.00000000\n",
       "  0.394  0.7962840  0.00000000\n",
       "  0.395  0.7962840  0.00000000\n",
       "  0.396  0.7962840  0.00000000\n",
       "  0.397  0.7962840  0.00000000\n",
       "  0.398  0.7962840  0.00000000\n",
       "  0.399  0.7962840  0.00000000\n",
       "  0.400  0.7962840  0.00000000\n",
       "\n",
       "Accuracy was used to select the optimal model using the largest value.\n",
       "The final value used for the model was cp = 0.007."
      ]
     },
     "metadata": {},
     "output_type": "display_data"
    }
   ],
   "source": [
    "## Fitting CART model\n",
    "numFolds <- trainControl(method = \"cv\", number = 10)\n",
    "cpGrid <- expand.grid(.cp=seq(0.001, 0.4, 0.001))\n",
    "train(RainTomorrow ~., data=ClTrain, method=\"rpart\", trControl= numFolds, tuneGrid= cpGrid)"
   ]
  },
  {
   "cell_type": "code",
   "execution_count": 40,
   "id": "10faa8aa",
   "metadata": {},
   "outputs": [
    {
     "data": {
      "image/png": "[encoded data removed]",
      "text/plain": [
       "plot without title"
      ]
     },
     "metadata": {
      "image/png": {
       "height": 480,
       "width": 900
      }
     },
     "output_type": "display_data"
    }
   ],
   "source": [
    "t.mod <- rpart(RainTomorrow ~ .-Date, data=ClTrain, method=\"class\", cp = 0.032)\n",
    "prp(t.mod)"
   ]
  },
  {
   "cell_type": "code",
   "execution_count": 41,
   "id": "8d6b0004",
   "metadata": {},
   "outputs": [
    {
     "data": {
      "text/html": [
       "0.890909090909091"
      ],
      "text/latex": [
       "0.890909090909091"
      ],
      "text/markdown": [
       "0.890909090909091"
      ],
      "text/plain": [
       "[1] 0.8909091"
      ]
     },
     "metadata": {},
     "output_type": "display_data"
    }
   ],
   "source": [
    "pred.tree <- predict(t.mod, newdata = ClTest, type=\"class\")\n",
    "cartmod  <-  table(ClTest$RainTomorrow, pred.tree)\n",
    "sum(diag(cartmod))/nrow(ClTest)"
   ]
  },
  {
   "cell_type": "code",
   "execution_count": 42,
   "id": "b98fdc32",
   "metadata": {},
   "outputs": [
    {
     "data": {
      "text/html": [
       "0.83534055257565"
      ],
      "text/latex": [
       "0.83534055257565"
      ],
      "text/markdown": [
       "0.83534055257565"
      ],
      "text/plain": [
       "[1] 0.8353406"
      ]
     },
     "metadata": {},
     "output_type": "display_data"
    },
    {
     "data": {
      "image/png": "[encoded data removed]",
      "text/plain": [
       "plot without title"
      ]
     },
     "metadata": {
      "image/png": {
       "height": 480,
       "width": 900
      }
     },
     "output_type": "display_data"
    }
   ],
   "source": [
    "predROC <- predict(t.mod, newdata = ClTest)\n",
    "pred <- prediction(predROC[,2], ClTest$RainTomorrow)\n",
    "perf <- performance(pred, \"tpr\", \"fpr\")\n",
    "plot(perf)\n",
    "as.numeric(performance(pred, \"auc\")@y.values)"
   ]
  },
  {
   "cell_type": "code",
   "execution_count": 45,
   "id": "842f6e0a",
   "metadata": {},
   "outputs": [
    {
     "data": {
      "text/plain": [
       "\n",
       "Call:\n",
       " randomForest(formula = RainTomorrow ~ . - Date, data = ClTrain,      nodsize = 5, ntree = 500, mtry = 3) \n",
       "               Type of random forest: classification\n",
       "                     Number of trees: 500\n",
       "No. of variables tried at each split: 3\n",
       "\n",
       "        OOB estimate of  error rate: 9.96%\n",
       "Confusion matrix:\n",
       "      No Yes class.error\n",
       "No  1837  90  0.04670472\n",
       "Yes  151 342  0.30628803"
      ]
     },
     "metadata": {},
     "output_type": "display_data"
    }
   ],
   "source": [
    "## Fitting RandomForest model\n",
    "rf.model <- randomForest(RainTomorrow ~ .-Date , data=ClTrain, nodsize=5, ntree=500, mtry=3)\n",
    "rf.model"
   ]
  },
  {
   "cell_type": "code",
   "execution_count": 46,
   "id": "b9b04037",
   "metadata": {},
   "outputs": [
    {
     "data": {
      "text/html": [
       "0.915702479338843"
      ],
      "text/latex": [
       "0.915702479338843"
      ],
      "text/markdown": [
       "0.915702479338843"
      ],
      "text/plain": [
       "[1] 0.9157025"
      ]
     },
     "metadata": {},
     "output_type": "display_data"
    }
   ],
   "source": [
    "\n",
    "pred.rf <- predict(rf.model, newdata = ClTest)\n",
    "pred.rf1 <- predict(rf.model, newdata = ClTest, type=\"prob\")\n",
    "\n",
    "forestmod  <-  table(ClTest$RainTomorrow, pred.rf)\n",
    "sum(diag(forestmod))/nrow(ClTest)"
   ]
  },
  {
   "cell_type": "code",
   "execution_count": 47,
   "id": "9c3c6e40",
   "metadata": {},
   "outputs": [
    {
     "data": {
      "text/html": [
       "0.94779543231117"
      ],
      "text/latex": [
       "0.94779543231117"
      ],
      "text/markdown": [
       "0.94779543231117"
      ],
      "text/plain": [
       "[1] 0.9477954"
      ]
     },
     "metadata": {},
     "output_type": "display_data"
    }
   ],
   "source": [
    "ROC.pred <- prediction(pred.rf1[,2], ClTest$RainTomorrow)\n",
    "as.numeric(performance(ROC.pred, \"auc\")@y.values)"
   ]
  },
  {
   "cell_type": "code",
   "execution_count": 48,
   "id": "ab7c4c53",
   "metadata": {},
   "outputs": [],
   "source": [
    "########################################################################\n",
    "# 2. Rainfall prediction\n",
    "########################################################################"
   ]
  },
  {
   "cell_type": "code",
   "execution_count": 49,
   "id": "95390505",
   "metadata": {},
   "outputs": [],
   "source": [
    "# Reading the dataset\n",
    "weather <- read.csv('weatherAUS.csv')\n",
    "weather$Date <- as.Date(weather$Date)\n"
   ]
  },
  {
   "cell_type": "code",
   "execution_count": 50,
   "id": "5804c099",
   "metadata": {},
   "outputs": [],
   "source": [
    "weather <- na.omit(weather)\n",
    "weather$RainTomorrow <- as.factor(weather$RainTomorrow)\n",
    "weather$RainToday <- as.factor(weather$RainToday)\n",
    "weather$Location <- as.factor(weather$Location)\n",
    "weather$WindGustDir <- as.factor(weather$WindGustDir)\n",
    "weather$WindDir9am <- as.factor(weather$WindDir9am)\n",
    "weather$WindDir3pm <- as.factor(weather$WindDir3pm)\n"
   ]
  },
  {
   "cell_type": "code",
   "execution_count": 51,
   "id": "9ed32f02",
   "metadata": {},
   "outputs": [],
   "source": [
    "perth <- subset(weather, weather$Location == \"Perth\")\n"
   ]
  },
  {
   "cell_type": "code",
   "execution_count": 52,
   "id": "e83d27c3",
   "metadata": {},
   "outputs": [],
   "source": [
    "# Adding A coulumn for Rainfall tomorrow\n",
    "perth$RainfallTomorrow[nrow(perth)] <- 0\n",
    "for (i in 1:nrow(perth)-1) {\n",
    "  perth$RainfallTomorrow[i] <- perth$Rainfall[i+1]\n",
    "}\n"
   ]
  },
  {
   "cell_type": "code",
   "execution_count": 53,
   "id": "bb408123",
   "metadata": {},
   "outputs": [],
   "source": [
    "# trying to fit a regression model to predict the amount of Rainfall\n",
    "\n",
    "library(caTools)\n",
    "set.seed(1000)\n",
    "split <- sample.split(perth$RainfallTomorrow, SplitRatio = 0.8)\n",
    "ClTrain <- subset(perth, split==T,select = -c(Location))\n",
    "ClTest <- subset(perth, split==F,select = -c(Location))"
   ]
  },
  {
   "cell_type": "code",
   "execution_count": 54,
   "id": "6ba2feb8",
   "metadata": {},
   "outputs": [
    {
     "data": {
      "text/plain": [
       "\n",
       "Call:\n",
       "lm(formula = RainfallTomorrow ~ . - Date - WindGustDir - WindDir9am - \n",
       "    WindSpeed9am - WindDir3pm - Temp3pm - MaxTemp - Temp9am - \n",
       "    Cloud9am - Humidity9am - WindSpeed3pm - RainTomorrow - RainToday, \n",
       "    data = ClTrain)\n",
       "\n",
       "Residuals:\n",
       "    Min      1Q  Median      3Q     Max \n",
       "-14.187  -2.054  -0.441   1.149 100.704 \n",
       "\n",
       "Coefficients:\n",
       "                Estimate Std. Error t value Pr(>|t|)    \n",
       "(Intercept)   283.089938  25.511414  11.097  < 2e-16 ***\n",
       "MinTemp        -0.193160   0.034848  -5.543  3.3e-08 ***\n",
       "Rainfall        0.027523   0.020453   1.346    0.179    \n",
       "Evaporation    -0.052120   0.055855  -0.933    0.351    \n",
       "Sunshine       -0.486423   0.050405  -9.650  < 2e-16 ***\n",
       "WindGustSpeed   0.127743   0.012881   9.917  < 2e-16 ***\n",
       "Humidity3pm     0.092017   0.009303   9.892  < 2e-16 ***\n",
       "Pressure9am     0.988540   0.073101  13.523  < 2e-16 ***\n",
       "Pressure3pm    -1.269501   0.072367 -17.543  < 2e-16 ***\n",
       "Cloud3pm        0.016234   0.056777   0.286    0.775    \n",
       "---\n",
       "Signif. codes:  0 '***' 0.001 '**' 0.01 '*' 0.05 '.' 0.1 ' ' 1\n",
       "\n",
       "Residual standard error: 5.041 on 2420 degrees of freedom\n",
       "Multiple R-squared:  0.336,\tAdjusted R-squared:  0.3335 \n",
       "F-statistic: 136.1 on 9 and 2420 DF,  p-value: < 2.2e-16\n"
      ]
     },
     "metadata": {},
     "output_type": "display_data"
    }
   ],
   "source": [
    "model1 <- lm(RainfallTomorrow ~ . -Date -WindGustDir -WindDir9am - WindSpeed9am -WindDir3pm -Temp3pm -MaxTemp - Temp9am - Cloud9am  - Humidity9am  - WindSpeed3pm -RainTomorrow -RainToday , data = ClTrain)\n",
    "summary(model1)"
   ]
  },
  {
   "cell_type": "code",
   "execution_count": 55,
   "id": "bb47d5bf",
   "metadata": {},
   "outputs": [
    {
     "data": {
      "image/png": "[encoded data removed]",
      "text/plain": [
       "plot without title"
      ]
     },
     "metadata": {
      "image/png": {
       "height": 480,
       "width": 900
      }
     },
     "output_type": "display_data"
    }
   ],
   "source": [
    "pairs(ClTrain[,c(\"Cloud3pm\",\"Rainfall\" , \"Evaporation\")], col = 14)\n"
   ]
  },
  {
   "cell_type": "code",
   "execution_count": 56,
   "id": "58fcfeb5",
   "metadata": {},
   "outputs": [
    {
     "data": {
      "text/plain": [
       "\n",
       "Call:\n",
       "lm(formula = RainfallTomorrow ~ . - Date - WindGustDir - WindDir9am - \n",
       "    WindSpeed9am - WindDir3pm - Temp3pm - MaxTemp - Temp9am - \n",
       "    Cloud9am - Humidity9am - WindSpeed3pm - RainTomorrow - RainToday - \n",
       "    Cloud3pm - Evaporation - Rainfall, data = ClTrain)\n",
       "\n",
       "Residuals:\n",
       "    Min      1Q  Median      3Q     Max \n",
       "-14.518  -2.068  -0.435   1.141 100.221 \n",
       "\n",
       "Coefficients:\n",
       "                Estimate Std. Error t value Pr(>|t|)    \n",
       "(Intercept)   285.095599  24.693570  11.545  < 2e-16 ***\n",
       "MinTemp        -0.218378   0.028166  -7.753 1.31e-14 ***\n",
       "Sunshine       -0.517276   0.038197 -13.543  < 2e-16 ***\n",
       "WindGustSpeed   0.129438   0.012658  10.226  < 2e-16 ***\n",
       "Humidity3pm     0.094778   0.008845  10.716  < 2e-16 ***\n",
       "Pressure9am     0.958032   0.070343  13.619  < 2e-16 ***\n",
       "Pressure3pm    -1.240678   0.070323 -17.643  < 2e-16 ***\n",
       "---\n",
       "Signif. codes:  0 '***' 0.001 '**' 0.01 '*' 0.05 '.' 0.1 ' ' 1\n",
       "\n",
       "Residual standard error: 5.041 on 2423 degrees of freedom\n",
       "Multiple R-squared:  0.3352,\tAdjusted R-squared:  0.3335 \n",
       "F-statistic: 203.6 on 6 and 2423 DF,  p-value: < 2.2e-16\n"
      ]
     },
     "metadata": {},
     "output_type": "display_data"
    }
   ],
   "source": [
    "model2 <- lm(RainfallTomorrow ~ . -Date -WindGustDir -WindDir9am - WindSpeed9am -WindDir3pm -Temp3pm -MaxTemp - Temp9am - Cloud9am  - Humidity9am  - WindSpeed3pm -RainTomorrow -RainToday - Cloud3pm -Evaporation -Rainfall, data = ClTrain)\n",
    "summary(model2)"
   ]
  },
  {
   "cell_type": "code",
   "execution_count": 57,
   "id": "f4372df3",
   "metadata": {},
   "outputs": [
    {
     "data": {
      "text/html": [
       "<style>\n",
       ".list-inline {list-style: none; margin:0; padding: 0}\n",
       ".list-inline>li {display: inline-block}\n",
       ".list-inline>li:not(:last-child)::after {content: \"\\00b7\"; padding: 0 .5ex}\n",
       "</style>\n",
       "<ol class=list-inline><li>114.4</li><li>61.2</li><li>51.2</li><li>50.6</li><li>47.2</li><li>45.4</li><li>43.6</li><li>43.6</li><li>42.8</li><li>40.8</li><li>40.6</li><li>40.2</li><li>38.6</li><li>38.6</li><li>36.4</li><li>35.8</li><li>34.6</li><li>33.2</li><li>33</li><li>32.8</li><li>32</li><li>31.8</li><li>31</li><li>30.6</li><li>30.6</li><li>30.2</li><li>29.8</li><li>29.6</li><li>29.4</li><li>28.2</li><li>27.4</li><li>27.2</li><li>27</li><li>26.8</li><li>26.2</li><li>26.2</li><li>26</li><li>26</li><li>25.8</li><li>25.8</li><li>25.2</li><li>25</li><li>24.6</li><li>24.2</li><li>24</li><li>24</li><li>23.8</li><li>23.4</li><li>23.2</li><li>22.8</li><li>22.4</li><li>22.2</li><li>21.8</li><li>21.8</li><li>21</li><li>20.6</li><li>20.4</li><li>20.4</li><li>20.2</li><li>20</li><li>20</li><li>19.6</li><li>19.4</li><li>19.4</li><li>19.4</li><li>19.2</li><li>19.2</li><li>19.2</li><li>19</li><li>18.4</li><li>18.2</li><li>18.2</li><li>18</li><li>18</li><li>18</li><li>17.8</li><li>17.6</li><li>17.6</li><li>17.6</li><li>17.6</li><li>17.4</li><li>17.4</li><li>17.2</li><li>16.8</li><li>16.8</li><li>16.6</li><li>16.6</li><li>16.6</li><li>16.4</li><li>16.2</li><li>16.2</li><li>16</li><li>16</li><li>16</li><li>16</li><li>16</li><li>15.8</li><li>15.8</li><li>15.6</li><li>15.6</li><li>15.6</li><li>15.4</li><li>15.4</li><li>15</li><li>15</li><li>15</li><li>14.8</li><li>14.8</li><li>14.8</li><li>14.6</li><li>14.2</li><li>14.2</li><li>14</li><li>14</li><li>14</li><li>13.8</li><li>13.6</li><li>13.6</li><li>13.6</li><li>13.6</li><li>13.4</li><li>13.4</li><li>13.4</li><li>13.4</li><li>13.4</li><li>13.2</li><li>13.2</li><li>13.2</li><li>12.8</li><li>12.8</li><li>12.8</li><li>12.6</li><li>12.6</li><li>12.6</li><li>12.6</li><li>12.6</li><li>12.4</li><li>12.4</li><li>12.4</li><li>12.4</li><li>12.4</li><li>12.2</li><li>12.2</li><li>12</li><li>12</li><li>12</li><li>12</li><li>12</li><li>11.8</li><li>11.8</li><li>11.8</li><li>11.8</li><li>11.6</li><li>11.6</li><li>11.6</li><li>11.6</li><li>11.4</li><li>11.4</li><li>11.4</li><li>11.4</li><li>11.4</li><li>11.2</li><li>11.2</li><li>11.2</li><li>11.2</li><li>11.2</li><li>11.2</li><li>11.2</li><li>11.2</li><li>11</li><li>11</li><li>11</li><li>10.8</li><li>10.8</li><li>10.6</li><li>10.6</li><li>10.6</li><li>10.6</li><li>10.4</li><li>10.4</li><li>10.4</li><li>10.4</li><li>10.2</li><li>10.2</li><li>10.2</li><li>10</li><li>10</li><li>10</li><li>10</li><li>10</li><li>9.8</li><li>9.8</li><li>9.8</li><li>9.8</li><li>9.6</li><li>9.6</li><li>9.6</li><li>9.6</li><li>9.6</li><li>9.6</li><li>...</li><li>0</li><li>0</li><li>0</li><li>0</li><li>0</li><li>0</li><li>0</li><li>0</li><li>0</li><li>0</li><li>0</li><li>0</li><li>0</li><li>0</li><li>0</li><li>0</li><li>0</li><li>0</li><li>0</li><li>0</li><li>0</li><li>0</li><li>0</li><li>0</li><li>0</li><li>0</li><li>0</li><li>0</li><li>0</li><li>0</li><li>0</li><li>0</li><li>0</li><li>0</li><li>0</li><li>0</li><li>0</li><li>0</li><li>0</li><li>0</li><li>0</li><li>0</li><li>0</li><li>0</li><li>0</li><li>0</li><li>0</li><li>0</li><li>0</li><li>0</li><li>0</li><li>0</li><li>0</li><li>0</li><li>0</li><li>0</li><li>0</li><li>0</li><li>0</li><li>0</li><li>0</li><li>0</li><li>0</li><li>0</li><li>0</li><li>0</li><li>0</li><li>0</li><li>0</li><li>0</li><li>0</li><li>0</li><li>0</li><li>0</li><li>0</li><li>0</li><li>0</li><li>0</li><li>0</li><li>0</li><li>0</li><li>0</li><li>0</li><li>0</li><li>0</li><li>0</li><li>0</li><li>0</li><li>0</li><li>0</li><li>0</li><li>0</li><li>0</li><li>0</li><li>0</li><li>0</li><li>0</li><li>0</li><li>0</li><li>0</li><li>0</li><li>0</li><li>0</li><li>0</li><li>0</li><li>0</li><li>0</li><li>0</li><li>0</li><li>0</li><li>0</li><li>0</li><li>0</li><li>0</li><li>0</li><li>0</li><li>0</li><li>0</li><li>0</li><li>0</li><li>0</li><li>0</li><li>0</li><li>0</li><li>0</li><li>0</li><li>0</li><li>0</li><li>0</li><li>0</li><li>0</li><li>0</li><li>0</li><li>0</li><li>0</li><li>0</li><li>0</li><li>0</li><li>0</li><li>0</li><li>0</li><li>0</li><li>0</li><li>0</li><li>0</li><li>0</li><li>0</li><li>0</li><li>0</li><li>0</li><li>0</li><li>0</li><li>0</li><li>0</li><li>0</li><li>0</li><li>0</li><li>0</li><li>0</li><li>0</li><li>0</li><li>0</li><li>0</li><li>0</li><li>0</li><li>0</li><li>0</li><li>0</li><li>0</li><li>0</li><li>0</li><li>0</li><li>0</li><li>0</li><li>0</li><li>0</li><li>0</li><li>0</li><li>0</li><li>0</li><li>0</li><li>0</li><li>0</li><li>0</li><li>0</li><li>0</li><li>0</li><li>0</li><li>0</li><li>0</li><li>0</li><li>0</li><li>0</li><li>0</li><li>0</li><li>0</li><li>0</li><li>0</li><li>0</li><li>0</li></ol>\n"
      ],
      "text/latex": [
       "\\begin{enumerate*}\n",
       "\\item 114.4\n",
       "\\item 61.2\n",
       "\\item 51.2\n",
       "\\item 50.6\n",
       "\\item 47.2\n",
       "\\item 45.4\n",
       "\\item 43.6\n",
       "\\item 43.6\n",
       "\\item 42.8\n",
       "\\item 40.8\n",
       "\\item 40.6\n",
       "\\item 40.2\n",
       "\\item 38.6\n",
       "\\item 38.6\n",
       "\\item 36.4\n",
       "\\item 35.8\n",
       "\\item 34.6\n",
       "\\item 33.2\n",
       "\\item 33\n",
       "\\item 32.8\n",
       "\\item 32\n",
       "\\item 31.8\n",
       "\\item 31\n",
       "\\item 30.6\n",
       "\\item 30.6\n",
       "\\item 30.2\n",
       "\\item 29.8\n",
       "\\item 29.6\n",
       "\\item 29.4\n",
       "\\item 28.2\n",
       "\\item 27.4\n",
       "\\item 27.2\n",
       "\\item 27\n",
       "\\item 26.8\n",
       "\\item 26.2\n",
       "\\item 26.2\n",
       "\\item 26\n",
       "\\item 26\n",
       "\\item 25.8\n",
       "\\item 25.8\n",
       "\\item 25.2\n",
       "\\item 25\n",
       "\\item 24.6\n",
       "\\item 24.2\n",
       "\\item 24\n",
       "\\item 24\n",
       "\\item 23.8\n",
       "\\item 23.4\n",
       "\\item 23.2\n",
       "\\item 22.8\n",
       "\\item 22.4\n",
       "\\item 22.2\n",
       "\\item 21.8\n",
       "\\item 21.8\n",
       "\\item 21\n",
       "\\item 20.6\n",
       "\\item 20.4\n",
       "\\item 20.4\n",
       "\\item 20.2\n",
       "\\item 20\n",
       "\\item 20\n",
       "\\item 19.6\n",
       "\\item 19.4\n",
       "\\item 19.4\n",
       "\\item 19.4\n",
       "\\item 19.2\n",
       "\\item 19.2\n",
       "\\item 19.2\n",
       "\\item 19\n",
       "\\item 18.4\n",
       "\\item 18.2\n",
       "\\item 18.2\n",
       "\\item 18\n",
       "\\item 18\n",
       "\\item 18\n",
       "\\item 17.8\n",
       "\\item 17.6\n",
       "\\item 17.6\n",
       "\\item 17.6\n",
       "\\item 17.6\n",
       "\\item 17.4\n",
       "\\item 17.4\n",
       "\\item 17.2\n",
       "\\item 16.8\n",
       "\\item 16.8\n",
       "\\item 16.6\n",
       "\\item 16.6\n",
       "\\item 16.6\n",
       "\\item 16.4\n",
       "\\item 16.2\n",
       "\\item 16.2\n",
       "\\item 16\n",
       "\\item 16\n",
       "\\item 16\n",
       "\\item 16\n",
       "\\item 16\n",
       "\\item 15.8\n",
       "\\item 15.8\n",
       "\\item 15.6\n",
       "\\item 15.6\n",
       "\\item 15.6\n",
       "\\item 15.4\n",
       "\\item 15.4\n",
       "\\item 15\n",
       "\\item 15\n",
       "\\item 15\n",
       "\\item 14.8\n",
       "\\item 14.8\n",
       "\\item 14.8\n",
       "\\item 14.6\n",
       "\\item 14.2\n",
       "\\item 14.2\n",
       "\\item 14\n",
       "\\item 14\n",
       "\\item 14\n",
       "\\item 13.8\n",
       "\\item 13.6\n",
       "\\item 13.6\n",
       "\\item 13.6\n",
       "\\item 13.6\n",
       "\\item 13.4\n",
       "\\item 13.4\n",
       "\\item 13.4\n",
       "\\item 13.4\n",
       "\\item 13.4\n",
       "\\item 13.2\n",
       "\\item 13.2\n",
       "\\item 13.2\n",
       "\\item 12.8\n",
       "\\item 12.8\n",
       "\\item 12.8\n",
       "\\item 12.6\n",
       "\\item 12.6\n",
       "\\item 12.6\n",
       "\\item 12.6\n",
       "\\item 12.6\n",
       "\\item 12.4\n",
       "\\item 12.4\n",
       "\\item 12.4\n",
       "\\item 12.4\n",
       "\\item 12.4\n",
       "\\item 12.2\n",
       "\\item 12.2\n",
       "\\item 12\n",
       "\\item 12\n",
       "\\item 12\n",
       "\\item 12\n",
       "\\item 12\n",
       "\\item 11.8\n",
       "\\item 11.8\n",
       "\\item 11.8\n",
       "\\item 11.8\n",
       "\\item 11.6\n",
       "\\item 11.6\n",
       "\\item 11.6\n",
       "\\item 11.6\n",
       "\\item 11.4\n",
       "\\item 11.4\n",
       "\\item 11.4\n",
       "\\item 11.4\n",
       "\\item 11.4\n",
       "\\item 11.2\n",
       "\\item 11.2\n",
       "\\item 11.2\n",
       "\\item 11.2\n",
       "\\item 11.2\n",
       "\\item 11.2\n",
       "\\item 11.2\n",
       "\\item 11.2\n",
       "\\item 11\n",
       "\\item 11\n",
       "\\item 11\n",
       "\\item 10.8\n",
       "\\item 10.8\n",
       "\\item 10.6\n",
       "\\item 10.6\n",
       "\\item 10.6\n",
       "\\item 10.6\n",
       "\\item 10.4\n",
       "\\item 10.4\n",
       "\\item 10.4\n",
       "\\item 10.4\n",
       "\\item 10.2\n",
       "\\item 10.2\n",
       "\\item 10.2\n",
       "\\item 10\n",
       "\\item 10\n",
       "\\item 10\n",
       "\\item 10\n",
       "\\item 10\n",
       "\\item 9.8\n",
       "\\item 9.8\n",
       "\\item 9.8\n",
       "\\item 9.8\n",
       "\\item 9.6\n",
       "\\item 9.6\n",
       "\\item 9.6\n",
       "\\item 9.6\n",
       "\\item 9.6\n",
       "\\item 9.6\n",
       "\\item ...\n",
       "\\item 0\n",
       "\\item 0\n",
       "\\item 0\n",
       "\\item 0\n",
       "\\item 0\n",
       "\\item 0\n",
       "\\item 0\n",
       "\\item 0\n",
       "\\item 0\n",
       "\\item 0\n",
       "\\item 0\n",
       "\\item 0\n",
       "\\item 0\n",
       "\\item 0\n",
       "\\item 0\n",
       "\\item 0\n",
       "\\item 0\n",
       "\\item 0\n",
       "\\item 0\n",
       "\\item 0\n",
       "\\item 0\n",
       "\\item 0\n",
       "\\item 0\n",
       "\\item 0\n",
       "\\item 0\n",
       "\\item 0\n",
       "\\item 0\n",
       "\\item 0\n",
       "\\item 0\n",
       "\\item 0\n",
       "\\item 0\n",
       "\\item 0\n",
       "\\item 0\n",
       "\\item 0\n",
       "\\item 0\n",
       "\\item 0\n",
       "\\item 0\n",
       "\\item 0\n",
       "\\item 0\n",
       "\\item 0\n",
       "\\item 0\n",
       "\\item 0\n",
       "\\item 0\n",
       "\\item 0\n",
       "\\item 0\n",
       "\\item 0\n",
       "\\item 0\n",
       "\\item 0\n",
       "\\item 0\n",
       "\\item 0\n",
       "\\item 0\n",
       "\\item 0\n",
       "\\item 0\n",
       "\\item 0\n",
       "\\item 0\n",
       "\\item 0\n",
       "\\item 0\n",
       "\\item 0\n",
       "\\item 0\n",
       "\\item 0\n",
       "\\item 0\n",
       "\\item 0\n",
       "\\item 0\n",
       "\\item 0\n",
       "\\item 0\n",
       "\\item 0\n",
       "\\item 0\n",
       "\\item 0\n",
       "\\item 0\n",
       "\\item 0\n",
       "\\item 0\n",
       "\\item 0\n",
       "\\item 0\n",
       "\\item 0\n",
       "\\item 0\n",
       "\\item 0\n",
       "\\item 0\n",
       "\\item 0\n",
       "\\item 0\n",
       "\\item 0\n",
       "\\item 0\n",
       "\\item 0\n",
       "\\item 0\n",
       "\\item 0\n",
       "\\item 0\n",
       "\\item 0\n",
       "\\item 0\n",
       "\\item 0\n",
       "\\item 0\n",
       "\\item 0\n",
       "\\item 0\n",
       "\\item 0\n",
       "\\item 0\n",
       "\\item 0\n",
       "\\item 0\n",
       "\\item 0\n",
       "\\item 0\n",
       "\\item 0\n",
       "\\item 0\n",
       "\\item 0\n",
       "\\item 0\n",
       "\\item 0\n",
       "\\item 0\n",
       "\\item 0\n",
       "\\item 0\n",
       "\\item 0\n",
       "\\item 0\n",
       "\\item 0\n",
       "\\item 0\n",
       "\\item 0\n",
       "\\item 0\n",
       "\\item 0\n",
       "\\item 0\n",
       "\\item 0\n",
       "\\item 0\n",
       "\\item 0\n",
       "\\item 0\n",
       "\\item 0\n",
       "\\item 0\n",
       "\\item 0\n",
       "\\item 0\n",
       "\\item 0\n",
       "\\item 0\n",
       "\\item 0\n",
       "\\item 0\n",
       "\\item 0\n",
       "\\item 0\n",
       "\\item 0\n",
       "\\item 0\n",
       "\\item 0\n",
       "\\item 0\n",
       "\\item 0\n",
       "\\item 0\n",
       "\\item 0\n",
       "\\item 0\n",
       "\\item 0\n",
       "\\item 0\n",
       "\\item 0\n",
       "\\item 0\n",
       "\\item 0\n",
       "\\item 0\n",
       "\\item 0\n",
       "\\item 0\n",
       "\\item 0\n",
       "\\item 0\n",
       "\\item 0\n",
       "\\item 0\n",
       "\\item 0\n",
       "\\item 0\n",
       "\\item 0\n",
       "\\item 0\n",
       "\\item 0\n",
       "\\item 0\n",
       "\\item 0\n",
       "\\item 0\n",
       "\\item 0\n",
       "\\item 0\n",
       "\\item 0\n",
       "\\item 0\n",
       "\\item 0\n",
       "\\item 0\n",
       "\\item 0\n",
       "\\item 0\n",
       "\\item 0\n",
       "\\item 0\n",
       "\\item 0\n",
       "\\item 0\n",
       "\\item 0\n",
       "\\item 0\n",
       "\\item 0\n",
       "\\item 0\n",
       "\\item 0\n",
       "\\item 0\n",
       "\\item 0\n",
       "\\item 0\n",
       "\\item 0\n",
       "\\item 0\n",
       "\\item 0\n",
       "\\item 0\n",
       "\\item 0\n",
       "\\item 0\n",
       "\\item 0\n",
       "\\item 0\n",
       "\\item 0\n",
       "\\item 0\n",
       "\\item 0\n",
       "\\item 0\n",
       "\\item 0\n",
       "\\item 0\n",
       "\\item 0\n",
       "\\item 0\n",
       "\\item 0\n",
       "\\item 0\n",
       "\\item 0\n",
       "\\item 0\n",
       "\\item 0\n",
       "\\item 0\n",
       "\\item 0\n",
       "\\item 0\n",
       "\\item 0\n",
       "\\end{enumerate*}\n"
      ],
      "text/markdown": [
       "1. 114.4\n",
       "2. 61.2\n",
       "3. 51.2\n",
       "4. 50.6\n",
       "5. 47.2\n",
       "6. 45.4\n",
       "7. 43.6\n",
       "8. 43.6\n",
       "9. 42.8\n",
       "10. 40.8\n",
       "11. 40.6\n",
       "12. 40.2\n",
       "13. 38.6\n",
       "14. 38.6\n",
       "15. 36.4\n",
       "16. 35.8\n",
       "17. 34.6\n",
       "18. 33.2\n",
       "19. 33\n",
       "20. 32.8\n",
       "21. 32\n",
       "22. 31.8\n",
       "23. 31\n",
       "24. 30.6\n",
       "25. 30.6\n",
       "26. 30.2\n",
       "27. 29.8\n",
       "28. 29.6\n",
       "29. 29.4\n",
       "30. 28.2\n",
       "31. 27.4\n",
       "32. 27.2\n",
       "33. 27\n",
       "34. 26.8\n",
       "35. 26.2\n",
       "36. 26.2\n",
       "37. 26\n",
       "38. 26\n",
       "39. 25.8\n",
       "40. 25.8\n",
       "41. 25.2\n",
       "42. 25\n",
       "43. 24.6\n",
       "44. 24.2\n",
       "45. 24\n",
       "46. 24\n",
       "47. 23.8\n",
       "48. 23.4\n",
       "49. 23.2\n",
       "50. 22.8\n",
       "51. 22.4\n",
       "52. 22.2\n",
       "53. 21.8\n",
       "54. 21.8\n",
       "55. 21\n",
       "56. 20.6\n",
       "57. 20.4\n",
       "58. 20.4\n",
       "59. 20.2\n",
       "60. 20\n",
       "61. 20\n",
       "62. 19.6\n",
       "63. 19.4\n",
       "64. 19.4\n",
       "65. 19.4\n",
       "66. 19.2\n",
       "67. 19.2\n",
       "68. 19.2\n",
       "69. 19\n",
       "70. 18.4\n",
       "71. 18.2\n",
       "72. 18.2\n",
       "73. 18\n",
       "74. 18\n",
       "75. 18\n",
       "76. 17.8\n",
       "77. 17.6\n",
       "78. 17.6\n",
       "79. 17.6\n",
       "80. 17.6\n",
       "81. 17.4\n",
       "82. 17.4\n",
       "83. 17.2\n",
       "84. 16.8\n",
       "85. 16.8\n",
       "86. 16.6\n",
       "87. 16.6\n",
       "88. 16.6\n",
       "89. 16.4\n",
       "90. 16.2\n",
       "91. 16.2\n",
       "92. 16\n",
       "93. 16\n",
       "94. 16\n",
       "95. 16\n",
       "96. 16\n",
       "97. 15.8\n",
       "98. 15.8\n",
       "99. 15.6\n",
       "100. 15.6\n",
       "101. 15.6\n",
       "102. 15.4\n",
       "103. 15.4\n",
       "104. 15\n",
       "105. 15\n",
       "106. 15\n",
       "107. 14.8\n",
       "108. 14.8\n",
       "109. 14.8\n",
       "110. 14.6\n",
       "111. 14.2\n",
       "112. 14.2\n",
       "113. 14\n",
       "114. 14\n",
       "115. 14\n",
       "116. 13.8\n",
       "117. 13.6\n",
       "118. 13.6\n",
       "119. 13.6\n",
       "120. 13.6\n",
       "121. 13.4\n",
       "122. 13.4\n",
       "123. 13.4\n",
       "124. 13.4\n",
       "125. 13.4\n",
       "126. 13.2\n",
       "127. 13.2\n",
       "128. 13.2\n",
       "129. 12.8\n",
       "130. 12.8\n",
       "131. 12.8\n",
       "132. 12.6\n",
       "133. 12.6\n",
       "134. 12.6\n",
       "135. 12.6\n",
       "136. 12.6\n",
       "137. 12.4\n",
       "138. 12.4\n",
       "139. 12.4\n",
       "140. 12.4\n",
       "141. 12.4\n",
       "142. 12.2\n",
       "143. 12.2\n",
       "144. 12\n",
       "145. 12\n",
       "146. 12\n",
       "147. 12\n",
       "148. 12\n",
       "149. 11.8\n",
       "150. 11.8\n",
       "151. 11.8\n",
       "152. 11.8\n",
       "153. 11.6\n",
       "154. 11.6\n",
       "155. 11.6\n",
       "156. 11.6\n",
       "157. 11.4\n",
       "158. 11.4\n",
       "159. 11.4\n",
       "160. 11.4\n",
       "161. 11.4\n",
       "162. 11.2\n",
       "163. 11.2\n",
       "164. 11.2\n",
       "165. 11.2\n",
       "166. 11.2\n",
       "167. 11.2\n",
       "168. 11.2\n",
       "169. 11.2\n",
       "170. 11\n",
       "171. 11\n",
       "172. 11\n",
       "173. 10.8\n",
       "174. 10.8\n",
       "175. 10.6\n",
       "176. 10.6\n",
       "177. 10.6\n",
       "178. 10.6\n",
       "179. 10.4\n",
       "180. 10.4\n",
       "181. 10.4\n",
       "182. 10.4\n",
       "183. 10.2\n",
       "184. 10.2\n",
       "185. 10.2\n",
       "186. 10\n",
       "187. 10\n",
       "188. 10\n",
       "189. 10\n",
       "190. 10\n",
       "191. 9.8\n",
       "192. 9.8\n",
       "193. 9.8\n",
       "194. 9.8\n",
       "195. 9.6\n",
       "196. 9.6\n",
       "197. 9.6\n",
       "198. 9.6\n",
       "199. 9.6\n",
       "200. 9.6\n",
       "201. ...\n",
       "202. 0\n",
       "203. 0\n",
       "204. 0\n",
       "205. 0\n",
       "206. 0\n",
       "207. 0\n",
       "208. 0\n",
       "209. 0\n",
       "210. 0\n",
       "211. 0\n",
       "212. 0\n",
       "213. 0\n",
       "214. 0\n",
       "215. 0\n",
       "216. 0\n",
       "217. 0\n",
       "218. 0\n",
       "219. 0\n",
       "220. 0\n",
       "221. 0\n",
       "222. 0\n",
       "223. 0\n",
       "224. 0\n",
       "225. 0\n",
       "226. 0\n",
       "227. 0\n",
       "228. 0\n",
       "229. 0\n",
       "230. 0\n",
       "231. 0\n",
       "232. 0\n",
       "233. 0\n",
       "234. 0\n",
       "235. 0\n",
       "236. 0\n",
       "237. 0\n",
       "238. 0\n",
       "239. 0\n",
       "240. 0\n",
       "241. 0\n",
       "242. 0\n",
       "243. 0\n",
       "244. 0\n",
       "245. 0\n",
       "246. 0\n",
       "247. 0\n",
       "248. 0\n",
       "249. 0\n",
       "250. 0\n",
       "251. 0\n",
       "252. 0\n",
       "253. 0\n",
       "254. 0\n",
       "255. 0\n",
       "256. 0\n",
       "257. 0\n",
       "258. 0\n",
       "259. 0\n",
       "260. 0\n",
       "261. 0\n",
       "262. 0\n",
       "263. 0\n",
       "264. 0\n",
       "265. 0\n",
       "266. 0\n",
       "267. 0\n",
       "268. 0\n",
       "269. 0\n",
       "270. 0\n",
       "271. 0\n",
       "272. 0\n",
       "273. 0\n",
       "274. 0\n",
       "275. 0\n",
       "276. 0\n",
       "277. 0\n",
       "278. 0\n",
       "279. 0\n",
       "280. 0\n",
       "281. 0\n",
       "282. 0\n",
       "283. 0\n",
       "284. 0\n",
       "285. 0\n",
       "286. 0\n",
       "287. 0\n",
       "288. 0\n",
       "289. 0\n",
       "290. 0\n",
       "291. 0\n",
       "292. 0\n",
       "293. 0\n",
       "294. 0\n",
       "295. 0\n",
       "296. 0\n",
       "297. 0\n",
       "298. 0\n",
       "299. 0\n",
       "300. 0\n",
       "301. 0\n",
       "302. 0\n",
       "303. 0\n",
       "304. 0\n",
       "305. 0\n",
       "306. 0\n",
       "307. 0\n",
       "308. 0\n",
       "309. 0\n",
       "310. 0\n",
       "311. 0\n",
       "312. 0\n",
       "313. 0\n",
       "314. 0\n",
       "315. 0\n",
       "316. 0\n",
       "317. 0\n",
       "318. 0\n",
       "319. 0\n",
       "320. 0\n",
       "321. 0\n",
       "322. 0\n",
       "323. 0\n",
       "324. 0\n",
       "325. 0\n",
       "326. 0\n",
       "327. 0\n",
       "328. 0\n",
       "329. 0\n",
       "330. 0\n",
       "331. 0\n",
       "332. 0\n",
       "333. 0\n",
       "334. 0\n",
       "335. 0\n",
       "336. 0\n",
       "337. 0\n",
       "338. 0\n",
       "339. 0\n",
       "340. 0\n",
       "341. 0\n",
       "342. 0\n",
       "343. 0\n",
       "344. 0\n",
       "345. 0\n",
       "346. 0\n",
       "347. 0\n",
       "348. 0\n",
       "349. 0\n",
       "350. 0\n",
       "351. 0\n",
       "352. 0\n",
       "353. 0\n",
       "354. 0\n",
       "355. 0\n",
       "356. 0\n",
       "357. 0\n",
       "358. 0\n",
       "359. 0\n",
       "360. 0\n",
       "361. 0\n",
       "362. 0\n",
       "363. 0\n",
       "364. 0\n",
       "365. 0\n",
       "366. 0\n",
       "367. 0\n",
       "368. 0\n",
       "369. 0\n",
       "370. 0\n",
       "371. 0\n",
       "372. 0\n",
       "373. 0\n",
       "374. 0\n",
       "375. 0\n",
       "376. 0\n",
       "377. 0\n",
       "378. 0\n",
       "379. 0\n",
       "380. 0\n",
       "381. 0\n",
       "382. 0\n",
       "383. 0\n",
       "384. 0\n",
       "385. 0\n",
       "386. 0\n",
       "387. 0\n",
       "388. 0\n",
       "389. 0\n",
       "390. 0\n",
       "391. 0\n",
       "392. 0\n",
       "393. 0\n",
       "394. 0\n",
       "395. 0\n",
       "396. 0\n",
       "397. 0\n",
       "398. 0\n",
       "399. 0\n",
       "400. 0\n",
       "401. 0\n",
       "\n",
       "\n"
      ],
      "text/plain": [
       "   [1] 114.4  61.2  51.2  50.6  47.2  45.4  43.6  43.6  42.8  40.8  40.6  40.2\n",
       "  [13]  38.6  38.6  36.4  35.8  34.6  33.2  33.0  32.8  32.0  31.8  31.0  30.6\n",
       "  [25]  30.6  30.2  29.8  29.6  29.4  28.2  27.4  27.2  27.0  26.8  26.2  26.2\n",
       "  [37]  26.0  26.0  25.8  25.8  25.2  25.0  24.6  24.2  24.0  24.0  23.8  23.4\n",
       "  [49]  23.2  22.8  22.4  22.2  21.8  21.8  21.0  20.6  20.4  20.4  20.2  20.0\n",
       "  [61]  20.0  19.6  19.4  19.4  19.4  19.2  19.2  19.2  19.0  18.4  18.2  18.2\n",
       "  [73]  18.0  18.0  18.0  17.8  17.6  17.6  17.6  17.6  17.4  17.4  17.2  16.8\n",
       "  [85]  16.8  16.6  16.6  16.6  16.4  16.2  16.2  16.0  16.0  16.0  16.0  16.0\n",
       "  [97]  15.8  15.8  15.6  15.6  15.6  15.4  15.4  15.0  15.0  15.0  14.8  14.8\n",
       " [109]  14.8  14.6  14.2  14.2  14.0  14.0  14.0  13.8  13.6  13.6  13.6  13.6\n",
       " [121]  13.4  13.4  13.4  13.4  13.4  13.2  13.2  13.2  12.8  12.8  12.8  12.6\n",
       " [133]  12.6  12.6  12.6  12.6  12.4  12.4  12.4  12.4  12.4  12.2  12.2  12.0\n",
       " [145]  12.0  12.0  12.0  12.0  11.8  11.8  11.8  11.8  11.6  11.6  11.6  11.6\n",
       " [157]  11.4  11.4  11.4  11.4  11.4  11.2  11.2  11.2  11.2  11.2  11.2  11.2\n",
       " [169]  11.2  11.0  11.0  11.0  10.8  10.8  10.6  10.6  10.6  10.6  10.4  10.4\n",
       " [181]  10.4  10.4  10.2  10.2  10.2  10.0  10.0  10.0  10.0  10.0   9.8   9.8\n",
       " [193]   9.8   9.8   9.6   9.6   9.6   9.6   9.6   9.6   9.6   9.6   9.4   9.4\n",
       " [205]   9.4   9.2   9.2   9.2   9.0   9.0   9.0   9.0   9.0   9.0   9.0   9.0\n",
       " [217]   8.8   8.8   8.8   8.8   8.8   8.6   8.6   8.6   8.6   8.6   8.6   8.6\n",
       " [229]   8.6   8.4   8.4   8.4   8.4   8.4   8.4   8.4   8.2   8.2   8.2   8.0\n",
       " [241]   8.0   8.0   8.0   8.0   8.0   8.0   7.8   7.8   7.8   7.8   7.8   7.8\n",
       " [253]   7.8   7.6   7.6   7.6   7.6   7.4   7.4   7.4   7.4   7.2   7.2   7.2\n",
       " [265]   7.0   7.0   7.0   7.0   6.8   6.8   6.8   6.8   6.8   6.8   6.6   6.6\n",
       " [277]   6.6   6.6   6.6   6.4   6.4   6.4   6.4   6.4   6.4   6.2   6.2   6.2\n",
       " [289]   6.2   6.2   6.2   6.2   6.0   6.0   6.0   6.0   6.0   6.0   6.0   5.8\n",
       " [301]   5.8   5.8   5.8   5.8   5.6   5.6   5.6   5.6   5.6   5.4   5.4   5.4\n",
       " [313]   5.4   5.4   5.4   5.4   5.4   5.4   5.4   5.2   5.2   5.2   5.2   5.2\n",
       " [325]   5.2   5.2   5.2   5.0   5.0   5.0   5.0   5.0   5.0   5.0   5.0   5.0\n",
       " [337]   5.0   5.0   4.8   4.8   4.8   4.8   4.8   4.8   4.8   4.8   4.8   4.8\n",
       " [349]   4.6   4.6   4.6   4.6   4.6   4.6   4.6   4.6   4.6   4.6   4.6   4.6\n",
       " [361]   4.4   4.4   4.4   4.4   4.4   4.4   4.2   4.2   4.2   4.2   4.2   4.2\n",
       " [373]   4.2   4.2   4.2   4.2   4.0   4.0   4.0   4.0   4.0   4.0   4.0   4.0\n",
       " [385]   4.0   4.0   3.8   3.8   3.8   3.8   3.8   3.8   3.8   3.8   3.8   3.8\n",
       " [397]   3.8   3.6   3.6   3.6   3.6   3.6   3.6   3.6   3.6   3.4   3.4   3.4\n",
       " [409]   3.4   3.4   3.4   3.4   3.4   3.4   3.4   3.4   3.4   3.4   3.4   3.4\n",
       " [421]   3.4   3.2   3.2   3.2   3.2   3.2   3.2   3.2   3.2   3.2   3.0   3.0\n",
       " [433]   3.0   3.0   3.0   3.0   3.0   3.0   3.0   3.0   3.0   3.0   3.0   3.0\n",
       " [445]   3.0   3.0   2.8   2.8   2.8   2.8   2.8   2.8   2.8   2.8   2.8   2.8\n",
       " [457]   2.8   2.8   2.8   2.8   2.8   2.8   2.8   2.8   2.6   2.6   2.6   2.6\n",
       " [469]   2.6   2.6   2.6   2.6   2.6   2.6   2.6   2.6   2.6   2.6   2.6   2.6\n",
       " [481]   2.6   2.6   2.4   2.4   2.4   2.4   2.4   2.4   2.4   2.4   2.4   2.2\n",
       " [493]   2.2   2.2   2.2   2.2   2.2   2.2   2.2   2.2   2.2   2.2   2.2   2.2\n",
       " [505]   2.2   2.2   2.2   2.0   2.0   2.0   2.0   2.0   2.0   2.0   2.0   2.0\n",
       " [517]   2.0   2.0   2.0   2.0   2.0   1.8   1.8   1.8   1.8   1.8   1.8   1.8\n",
       " [529]   1.8   1.8   1.8   1.8   1.8   1.8   1.8   1.6   1.6   1.6   1.6   1.6\n",
       " [541]   1.6   1.6   1.6   1.6   1.6   1.6   1.6   1.6   1.6   1.6   1.6   1.6\n",
       " [553]   1.4   1.4   1.4   1.4   1.4   1.4   1.4   1.4   1.4   1.4   1.4   1.4\n",
       " [565]   1.4   1.2   1.2   1.2   1.2   1.2   1.2   1.2   1.2   1.2   1.2   1.2\n",
       " [577]   1.2   1.2   1.2   1.2   1.2   1.2   1.2   1.2   1.2   1.2   1.2   1.2\n",
       " [589]   1.2   1.2   1.2   1.2   1.0   1.0   1.0   1.0   1.0   1.0   1.0   1.0\n",
       " [601]   1.0   1.0   1.0   1.0   1.0   1.0   1.0   1.0   1.0   1.0   1.0   1.0\n",
       " [613]   1.0   1.0   1.0   1.0   1.0   1.0   0.8   0.8   0.8   0.8   0.8   0.8\n",
       " [625]   0.8   0.8   0.8   0.8   0.8   0.8   0.8   0.8   0.8   0.8   0.8   0.8\n",
       " [637]   0.8   0.8   0.8   0.8   0.8   0.8   0.8   0.8   0.8   0.8   0.8   0.8\n",
       " [649]   0.6   0.6   0.6   0.6   0.6   0.6   0.6   0.6   0.6   0.6   0.6   0.6\n",
       " [661]   0.6   0.6   0.6   0.6   0.6   0.6   0.6   0.6   0.6   0.6   0.6   0.6\n",
       " [673]   0.6   0.6   0.6   0.6   0.6   0.6   0.6   0.6   0.6   0.6   0.6   0.4\n",
       " [685]   0.4   0.4   0.4   0.4   0.4   0.4   0.4   0.4   0.4   0.4   0.4   0.4\n",
       " [697]   0.4   0.4   0.4   0.4   0.4   0.4   0.4   0.4   0.4   0.4   0.4   0.4\n",
       " [709]   0.4   0.4   0.4   0.4   0.4   0.4   0.4   0.4   0.4   0.4   0.4   0.4\n",
       " [721]   0.4   0.4   0.4   0.4   0.4   0.4   0.4   0.4   0.4   0.4   0.2   0.2\n",
       " [733]   0.2   0.2   0.2   0.2   0.2   0.2   0.2   0.2   0.2   0.2   0.2   0.2\n",
       " [745]   0.2   0.2   0.2   0.2   0.2   0.2   0.2   0.2   0.2   0.2   0.2   0.2\n",
       " [757]   0.2   0.2   0.2   0.2   0.2   0.2   0.2   0.2   0.2   0.2   0.2   0.2\n",
       " [769]   0.2   0.2   0.2   0.2   0.2   0.2   0.2   0.2   0.2   0.2   0.2   0.2\n",
       " [781]   0.2   0.2   0.2   0.2   0.2   0.2   0.2   0.2   0.2   0.2   0.2   0.2\n",
       " [793]   0.2   0.2   0.2   0.2   0.2   0.2   0.2   0.2   0.2   0.2   0.2   0.2\n",
       " [805]   0.2   0.2   0.2   0.2   0.2   0.2   0.2   0.2   0.2   0.2   0.2   0.2\n",
       " [817]   0.2   0.2   0.2   0.2   0.2   0.2   0.2   0.2   0.2   0.2   0.2   0.2\n",
       " [829]   0.2   0.2   0.0   0.0   0.0   0.0   0.0   0.0   0.0   0.0   0.0   0.0\n",
       " [841]   0.0   0.0   0.0   0.0   0.0   0.0   0.0   0.0   0.0   0.0   0.0   0.0\n",
       " [853]   0.0   0.0   0.0   0.0   0.0   0.0   0.0   0.0   0.0   0.0   0.0   0.0\n",
       " [865]   0.0   0.0   0.0   0.0   0.0   0.0   0.0   0.0   0.0   0.0   0.0   0.0\n",
       " [877]   0.0   0.0   0.0   0.0   0.0   0.0   0.0   0.0   0.0   0.0   0.0   0.0\n",
       " [889]   0.0   0.0   0.0   0.0   0.0   0.0   0.0   0.0   0.0   0.0   0.0   0.0\n",
       " [901]   0.0   0.0   0.0   0.0   0.0   0.0   0.0   0.0   0.0   0.0   0.0   0.0\n",
       " [913]   0.0   0.0   0.0   0.0   0.0   0.0   0.0   0.0   0.0   0.0   0.0   0.0\n",
       " [925]   0.0   0.0   0.0   0.0   0.0   0.0   0.0   0.0   0.0   0.0   0.0   0.0\n",
       " [937]   0.0   0.0   0.0   0.0   0.0   0.0   0.0   0.0   0.0   0.0   0.0   0.0\n",
       " [949]   0.0   0.0   0.0   0.0   0.0   0.0   0.0   0.0   0.0   0.0   0.0   0.0\n",
       " [961]   0.0   0.0   0.0   0.0   0.0   0.0   0.0   0.0   0.0   0.0   0.0   0.0\n",
       " [973]   0.0   0.0   0.0   0.0   0.0   0.0   0.0   0.0   0.0   0.0   0.0   0.0\n",
       " [985]   0.0   0.0   0.0   0.0   0.0   0.0   0.0   0.0   0.0   0.0   0.0   0.0\n",
       " [997]   0.0   0.0   0.0   0.0   0.0   0.0   0.0   0.0   0.0   0.0   0.0   0.0\n",
       "[1009]   0.0   0.0   0.0   0.0   0.0   0.0   0.0   0.0   0.0   0.0   0.0   0.0\n",
       "[1021]   0.0   0.0   0.0   0.0   0.0   0.0   0.0   0.0   0.0   0.0   0.0   0.0\n",
       "[1033]   0.0   0.0   0.0   0.0   0.0   0.0   0.0   0.0   0.0   0.0   0.0   0.0\n",
       "[1045]   0.0   0.0   0.0   0.0   0.0   0.0   0.0   0.0   0.0   0.0   0.0   0.0\n",
       "[1057]   0.0   0.0   0.0   0.0   0.0   0.0   0.0   0.0   0.0   0.0   0.0   0.0\n",
       "[1069]   0.0   0.0   0.0   0.0   0.0   0.0   0.0   0.0   0.0   0.0   0.0   0.0\n",
       "[1081]   0.0   0.0   0.0   0.0   0.0   0.0   0.0   0.0   0.0   0.0   0.0   0.0\n",
       "[1093]   0.0   0.0   0.0   0.0   0.0   0.0   0.0   0.0   0.0   0.0   0.0   0.0\n",
       "[1105]   0.0   0.0   0.0   0.0   0.0   0.0   0.0   0.0   0.0   0.0   0.0   0.0\n",
       "[1117]   0.0   0.0   0.0   0.0   0.0   0.0   0.0   0.0   0.0   0.0   0.0   0.0\n",
       "[1129]   0.0   0.0   0.0   0.0   0.0   0.0   0.0   0.0   0.0   0.0   0.0   0.0\n",
       "[1141]   0.0   0.0   0.0   0.0   0.0   0.0   0.0   0.0   0.0   0.0   0.0   0.0\n",
       "[1153]   0.0   0.0   0.0   0.0   0.0   0.0   0.0   0.0   0.0   0.0   0.0   0.0\n",
       "[1165]   0.0   0.0   0.0   0.0   0.0   0.0   0.0   0.0   0.0   0.0   0.0   0.0\n",
       "[1177]   0.0   0.0   0.0   0.0   0.0   0.0   0.0   0.0   0.0   0.0   0.0   0.0\n",
       "[1189]   0.0   0.0   0.0   0.0   0.0   0.0   0.0   0.0   0.0   0.0   0.0   0.0\n",
       "[1201]   0.0   0.0   0.0   0.0   0.0   0.0   0.0   0.0   0.0   0.0   0.0   0.0\n",
       "[1213]   0.0   0.0   0.0   0.0   0.0   0.0   0.0   0.0   0.0   0.0   0.0   0.0\n",
       "[1225]   0.0   0.0   0.0   0.0   0.0   0.0   0.0   0.0   0.0   0.0   0.0   0.0\n",
       "[1237]   0.0   0.0   0.0   0.0   0.0   0.0   0.0   0.0   0.0   0.0   0.0   0.0\n",
       "[1249]   0.0   0.0   0.0   0.0   0.0   0.0   0.0   0.0   0.0   0.0   0.0   0.0\n",
       "[1261]   0.0   0.0   0.0   0.0   0.0   0.0   0.0   0.0   0.0   0.0   0.0   0.0\n",
       "[1273]   0.0   0.0   0.0   0.0   0.0   0.0   0.0   0.0   0.0   0.0   0.0   0.0\n",
       "[1285]   0.0   0.0   0.0   0.0   0.0   0.0   0.0   0.0   0.0   0.0   0.0   0.0\n",
       "[1297]   0.0   0.0   0.0   0.0   0.0   0.0   0.0   0.0   0.0   0.0   0.0   0.0\n",
       "[1309]   0.0   0.0   0.0   0.0   0.0   0.0   0.0   0.0   0.0   0.0   0.0   0.0\n",
       "[1321]   0.0   0.0   0.0   0.0   0.0   0.0   0.0   0.0   0.0   0.0   0.0   0.0\n",
       "[1333]   0.0   0.0   0.0   0.0   0.0   0.0   0.0   0.0   0.0   0.0   0.0   0.0\n",
       "[1345]   0.0   0.0   0.0   0.0   0.0   0.0   0.0   0.0   0.0   0.0   0.0   0.0\n",
       "[1357]   0.0   0.0   0.0   0.0   0.0   0.0   0.0   0.0   0.0   0.0   0.0   0.0\n",
       "[1369]   0.0   0.0   0.0   0.0   0.0   0.0   0.0   0.0   0.0   0.0   0.0   0.0\n",
       "[1381]   0.0   0.0   0.0   0.0   0.0   0.0   0.0   0.0   0.0   0.0   0.0   0.0\n",
       "[1393]   0.0   0.0   0.0   0.0   0.0   0.0   0.0   0.0   0.0   0.0   0.0   0.0\n",
       "[1405]   0.0   0.0   0.0   0.0   0.0   0.0   0.0   0.0   0.0   0.0   0.0   0.0\n",
       "[1417]   0.0   0.0   0.0   0.0   0.0   0.0   0.0   0.0   0.0   0.0   0.0   0.0\n",
       "[1429]   0.0   0.0   0.0   0.0   0.0   0.0   0.0   0.0   0.0   0.0   0.0   0.0\n",
       "[1441]   0.0   0.0   0.0   0.0   0.0   0.0   0.0   0.0   0.0   0.0   0.0   0.0\n",
       "[1453]   0.0   0.0   0.0   0.0   0.0   0.0   0.0   0.0   0.0   0.0   0.0   0.0\n",
       "[1465]   0.0   0.0   0.0   0.0   0.0   0.0   0.0   0.0   0.0   0.0   0.0   0.0\n",
       "[1477]   0.0   0.0   0.0   0.0   0.0   0.0   0.0   0.0   0.0   0.0   0.0   0.0\n",
       "[1489]   0.0   0.0   0.0   0.0   0.0   0.0   0.0   0.0   0.0   0.0   0.0   0.0\n",
       "[1501]   0.0   0.0   0.0   0.0   0.0   0.0   0.0   0.0   0.0   0.0   0.0   0.0\n",
       "[1513]   0.0   0.0   0.0   0.0   0.0   0.0   0.0   0.0   0.0   0.0   0.0   0.0\n",
       "[1525]   0.0   0.0   0.0   0.0   0.0   0.0   0.0   0.0   0.0   0.0   0.0   0.0\n",
       "[1537]   0.0   0.0   0.0   0.0   0.0   0.0   0.0   0.0   0.0   0.0   0.0   0.0\n",
       "[1549]   0.0   0.0   0.0   0.0   0.0   0.0   0.0   0.0   0.0   0.0   0.0   0.0\n",
       "[1561]   0.0   0.0   0.0   0.0   0.0   0.0   0.0   0.0   0.0   0.0   0.0   0.0\n",
       "[1573]   0.0   0.0   0.0   0.0   0.0   0.0   0.0   0.0   0.0   0.0   0.0   0.0\n",
       "[1585]   0.0   0.0   0.0   0.0   0.0   0.0   0.0   0.0   0.0   0.0   0.0   0.0\n",
       "[1597]   0.0   0.0   0.0   0.0   0.0   0.0   0.0   0.0   0.0   0.0   0.0   0.0\n",
       "[1609]   0.0   0.0   0.0   0.0   0.0   0.0   0.0   0.0   0.0   0.0   0.0   0.0\n",
       "[1621]   0.0   0.0   0.0   0.0   0.0   0.0   0.0   0.0   0.0   0.0   0.0   0.0\n",
       "[1633]   0.0   0.0   0.0   0.0   0.0   0.0   0.0   0.0   0.0   0.0   0.0   0.0\n",
       "[1645]   0.0   0.0   0.0   0.0   0.0   0.0   0.0   0.0   0.0   0.0   0.0   0.0\n",
       "[1657]   0.0   0.0   0.0   0.0   0.0   0.0   0.0   0.0   0.0   0.0   0.0   0.0\n",
       "[1669]   0.0   0.0   0.0   0.0   0.0   0.0   0.0   0.0   0.0   0.0   0.0   0.0\n",
       "[1681]   0.0   0.0   0.0   0.0   0.0   0.0   0.0   0.0   0.0   0.0   0.0   0.0\n",
       "[1693]   0.0   0.0   0.0   0.0   0.0   0.0   0.0   0.0   0.0   0.0   0.0   0.0\n",
       "[1705]   0.0   0.0   0.0   0.0   0.0   0.0   0.0   0.0   0.0   0.0   0.0   0.0\n",
       "[1717]   0.0   0.0   0.0   0.0   0.0   0.0   0.0   0.0   0.0   0.0   0.0   0.0\n",
       "[1729]   0.0   0.0   0.0   0.0   0.0   0.0   0.0   0.0   0.0   0.0   0.0   0.0\n",
       "[1741]   0.0   0.0   0.0   0.0   0.0   0.0   0.0   0.0   0.0   0.0   0.0   0.0\n",
       "[1753]   0.0   0.0   0.0   0.0   0.0   0.0   0.0   0.0   0.0   0.0   0.0   0.0\n",
       "[1765]   0.0   0.0   0.0   0.0   0.0   0.0   0.0   0.0   0.0   0.0   0.0   0.0\n",
       "[1777]   0.0   0.0   0.0   0.0   0.0   0.0   0.0   0.0   0.0   0.0   0.0   0.0\n",
       "[1789]   0.0   0.0   0.0   0.0   0.0   0.0   0.0   0.0   0.0   0.0   0.0   0.0\n",
       "[1801]   0.0   0.0   0.0   0.0   0.0   0.0   0.0   0.0   0.0   0.0   0.0   0.0\n",
       "[1813]   0.0   0.0   0.0   0.0   0.0   0.0   0.0   0.0   0.0   0.0   0.0   0.0\n",
       "[1825]   0.0   0.0   0.0   0.0   0.0   0.0   0.0   0.0   0.0   0.0   0.0   0.0\n",
       "[1837]   0.0   0.0   0.0   0.0   0.0   0.0   0.0   0.0   0.0   0.0   0.0   0.0\n",
       "[1849]   0.0   0.0   0.0   0.0   0.0   0.0   0.0   0.0   0.0   0.0   0.0   0.0\n",
       "[1861]   0.0   0.0   0.0   0.0   0.0   0.0   0.0   0.0   0.0   0.0   0.0   0.0\n",
       "[1873]   0.0   0.0   0.0   0.0   0.0   0.0   0.0   0.0   0.0   0.0   0.0   0.0\n",
       "[1885]   0.0   0.0   0.0   0.0   0.0   0.0   0.0   0.0   0.0   0.0   0.0   0.0\n",
       "[1897]   0.0   0.0   0.0   0.0   0.0   0.0   0.0   0.0   0.0   0.0   0.0   0.0\n",
       "[1909]   0.0   0.0   0.0   0.0   0.0   0.0   0.0   0.0   0.0   0.0   0.0   0.0\n",
       "[1921]   0.0   0.0   0.0   0.0   0.0   0.0   0.0   0.0   0.0   0.0   0.0   0.0\n",
       "[1933]   0.0   0.0   0.0   0.0   0.0   0.0   0.0   0.0   0.0   0.0   0.0   0.0\n",
       "[1945]   0.0   0.0   0.0   0.0   0.0   0.0   0.0   0.0   0.0   0.0   0.0   0.0\n",
       "[1957]   0.0   0.0   0.0   0.0   0.0   0.0   0.0   0.0   0.0   0.0   0.0   0.0\n",
       "[1969]   0.0   0.0   0.0   0.0   0.0   0.0   0.0   0.0   0.0   0.0   0.0   0.0\n",
       "[1981]   0.0   0.0   0.0   0.0   0.0   0.0   0.0   0.0   0.0   0.0   0.0   0.0\n",
       "[1993]   0.0   0.0   0.0   0.0   0.0   0.0   0.0   0.0   0.0   0.0   0.0   0.0\n",
       "[2005]   0.0   0.0   0.0   0.0   0.0   0.0   0.0   0.0   0.0   0.0   0.0   0.0\n",
       "[2017]   0.0   0.0   0.0   0.0   0.0   0.0   0.0   0.0   0.0   0.0   0.0   0.0\n",
       "[2029]   0.0   0.0   0.0   0.0   0.0   0.0   0.0   0.0   0.0   0.0   0.0   0.0\n",
       "[2041]   0.0   0.0   0.0   0.0   0.0   0.0   0.0   0.0   0.0   0.0   0.0   0.0\n",
       "[2053]   0.0   0.0   0.0   0.0   0.0   0.0   0.0   0.0   0.0   0.0   0.0   0.0\n",
       "[2065]   0.0   0.0   0.0   0.0   0.0   0.0   0.0   0.0   0.0   0.0   0.0   0.0\n",
       "[2077]   0.0   0.0   0.0   0.0   0.0   0.0   0.0   0.0   0.0   0.0   0.0   0.0\n",
       "[2089]   0.0   0.0   0.0   0.0   0.0   0.0   0.0   0.0   0.0   0.0   0.0   0.0\n",
       "[2101]   0.0   0.0   0.0   0.0   0.0   0.0   0.0   0.0   0.0   0.0   0.0   0.0\n",
       "[2113]   0.0   0.0   0.0   0.0   0.0   0.0   0.0   0.0   0.0   0.0   0.0   0.0\n",
       "[2125]   0.0   0.0   0.0   0.0   0.0   0.0   0.0   0.0   0.0   0.0   0.0   0.0\n",
       "[2137]   0.0   0.0   0.0   0.0   0.0   0.0   0.0   0.0   0.0   0.0   0.0   0.0\n",
       "[2149]   0.0   0.0   0.0   0.0   0.0   0.0   0.0   0.0   0.0   0.0   0.0   0.0\n",
       "[2161]   0.0   0.0   0.0   0.0   0.0   0.0   0.0   0.0   0.0   0.0   0.0   0.0\n",
       "[2173]   0.0   0.0   0.0   0.0   0.0   0.0   0.0   0.0   0.0   0.0   0.0   0.0\n",
       "[2185]   0.0   0.0   0.0   0.0   0.0   0.0   0.0   0.0   0.0   0.0   0.0   0.0\n",
       "[2197]   0.0   0.0   0.0   0.0   0.0   0.0   0.0   0.0   0.0   0.0   0.0   0.0\n",
       "[2209]   0.0   0.0   0.0   0.0   0.0   0.0   0.0   0.0   0.0   0.0   0.0   0.0\n",
       "[2221]   0.0   0.0   0.0   0.0   0.0   0.0   0.0   0.0   0.0   0.0   0.0   0.0\n",
       "[2233]   0.0   0.0   0.0   0.0   0.0   0.0   0.0   0.0   0.0   0.0   0.0   0.0\n",
       "[2245]   0.0   0.0   0.0   0.0   0.0   0.0   0.0   0.0   0.0   0.0   0.0   0.0\n",
       "[2257]   0.0   0.0   0.0   0.0   0.0   0.0   0.0   0.0   0.0   0.0   0.0   0.0\n",
       "[2269]   0.0   0.0   0.0   0.0   0.0   0.0   0.0   0.0   0.0   0.0   0.0   0.0\n",
       "[2281]   0.0   0.0   0.0   0.0   0.0   0.0   0.0   0.0   0.0   0.0   0.0   0.0\n",
       "[2293]   0.0   0.0   0.0   0.0   0.0   0.0   0.0   0.0   0.0   0.0   0.0   0.0\n",
       "[2305]   0.0   0.0   0.0   0.0   0.0   0.0   0.0   0.0   0.0   0.0   0.0   0.0\n",
       "[2317]   0.0   0.0   0.0   0.0   0.0   0.0   0.0   0.0   0.0   0.0   0.0   0.0\n",
       "[2329]   0.0   0.0   0.0   0.0   0.0   0.0   0.0   0.0   0.0   0.0   0.0   0.0\n",
       "[2341]   0.0   0.0   0.0   0.0   0.0   0.0   0.0   0.0   0.0   0.0   0.0   0.0\n",
       "[2353]   0.0   0.0   0.0   0.0   0.0   0.0   0.0   0.0   0.0   0.0   0.0   0.0\n",
       "[2365]   0.0   0.0   0.0   0.0   0.0   0.0   0.0   0.0   0.0   0.0   0.0   0.0\n",
       "[2377]   0.0   0.0   0.0   0.0   0.0   0.0   0.0   0.0   0.0   0.0   0.0   0.0\n",
       "[2389]   0.0   0.0   0.0   0.0   0.0   0.0   0.0   0.0   0.0   0.0   0.0   0.0\n",
       "[2401]   0.0   0.0   0.0   0.0   0.0   0.0   0.0   0.0   0.0   0.0   0.0   0.0\n",
       "[2413]   0.0   0.0   0.0   0.0   0.0   0.0   0.0   0.0   0.0   0.0   0.0   0.0\n",
       "[2425]   0.0   0.0   0.0   0.0   0.0   0.0   0.0   0.0   0.0   0.0   0.0   0.0\n",
       "[2437]   0.0   0.0   0.0   0.0   0.0   0.0   0.0   0.0   0.0   0.0   0.0   0.0\n",
       "[2449]   0.0   0.0   0.0   0.0   0.0   0.0   0.0   0.0   0.0   0.0   0.0   0.0\n",
       "[2461]   0.0   0.0   0.0   0.0   0.0   0.0   0.0   0.0   0.0   0.0   0.0   0.0\n",
       "[2473]   0.0   0.0   0.0   0.0   0.0   0.0   0.0   0.0   0.0   0.0   0.0   0.0\n",
       "[2485]   0.0   0.0   0.0   0.0   0.0   0.0   0.0   0.0   0.0   0.0   0.0   0.0\n",
       "[2497]   0.0   0.0   0.0   0.0   0.0   0.0   0.0   0.0   0.0   0.0   0.0   0.0\n",
       "[2509]   0.0   0.0   0.0   0.0   0.0   0.0   0.0   0.0   0.0   0.0   0.0   0.0\n",
       "[2521]   0.0   0.0   0.0   0.0   0.0   0.0   0.0   0.0   0.0   0.0   0.0   0.0\n",
       "[2533]   0.0   0.0   0.0   0.0   0.0   0.0   0.0   0.0   0.0   0.0   0.0   0.0\n",
       "[2545]   0.0   0.0   0.0   0.0   0.0   0.0   0.0   0.0   0.0   0.0   0.0   0.0\n",
       "[2557]   0.0   0.0   0.0   0.0   0.0   0.0   0.0   0.0   0.0   0.0   0.0   0.0\n",
       "[2569]   0.0   0.0   0.0   0.0   0.0   0.0   0.0   0.0   0.0   0.0   0.0   0.0\n",
       "[2581]   0.0   0.0   0.0   0.0   0.0   0.0   0.0   0.0   0.0   0.0   0.0   0.0\n",
       "[2593]   0.0   0.0   0.0   0.0   0.0   0.0   0.0   0.0   0.0   0.0   0.0   0.0\n",
       "[2605]   0.0   0.0   0.0   0.0   0.0   0.0   0.0   0.0   0.0   0.0   0.0   0.0\n",
       "[2617]   0.0   0.0   0.0   0.0   0.0   0.0   0.0   0.0   0.0   0.0   0.0   0.0\n",
       "[2629]   0.0   0.0   0.0   0.0   0.0   0.0   0.0   0.0   0.0   0.0   0.0   0.0\n",
       "[2641]   0.0   0.0   0.0   0.0   0.0   0.0   0.0   0.0   0.0   0.0   0.0   0.0\n",
       "[2653]   0.0   0.0   0.0   0.0   0.0   0.0   0.0   0.0   0.0   0.0   0.0   0.0\n",
       "[2665]   0.0   0.0   0.0   0.0   0.0   0.0   0.0   0.0   0.0   0.0   0.0   0.0\n",
       "[2677]   0.0   0.0   0.0   0.0   0.0   0.0   0.0   0.0   0.0   0.0   0.0   0.0\n",
       "[2689]   0.0   0.0   0.0   0.0   0.0   0.0   0.0   0.0   0.0   0.0   0.0   0.0\n",
       "[2701]   0.0   0.0   0.0   0.0   0.0   0.0   0.0   0.0   0.0   0.0   0.0   0.0\n",
       "[2713]   0.0   0.0   0.0   0.0   0.0   0.0   0.0   0.0   0.0   0.0   0.0   0.0\n",
       "[2725]   0.0   0.0   0.0   0.0   0.0   0.0   0.0   0.0   0.0   0.0   0.0   0.0\n",
       "[2737]   0.0   0.0   0.0   0.0   0.0   0.0   0.0   0.0   0.0   0.0   0.0   0.0\n",
       "[2749]   0.0   0.0   0.0   0.0   0.0   0.0   0.0   0.0   0.0   0.0   0.0   0.0\n",
       "[2761]   0.0   0.0   0.0   0.0   0.0   0.0   0.0   0.0   0.0   0.0   0.0   0.0\n",
       "[2773]   0.0   0.0   0.0   0.0   0.0   0.0   0.0   0.0   0.0   0.0   0.0   0.0\n",
       "[2785]   0.0   0.0   0.0   0.0   0.0   0.0   0.0   0.0   0.0   0.0   0.0   0.0\n",
       "[2797]   0.0   0.0   0.0   0.0   0.0   0.0   0.0   0.0   0.0   0.0   0.0   0.0\n",
       "[2809]   0.0   0.0   0.0   0.0   0.0   0.0   0.0   0.0   0.0   0.0   0.0   0.0\n",
       "[2821]   0.0   0.0   0.0   0.0   0.0   0.0   0.0   0.0   0.0   0.0   0.0   0.0\n",
       "[2833]   0.0   0.0   0.0   0.0   0.0   0.0   0.0   0.0   0.0   0.0   0.0   0.0\n",
       "[2845]   0.0   0.0   0.0   0.0   0.0   0.0   0.0   0.0   0.0   0.0   0.0   0.0\n",
       "[2857]   0.0   0.0   0.0   0.0   0.0   0.0   0.0   0.0   0.0   0.0   0.0   0.0\n",
       "[2869]   0.0   0.0   0.0   0.0   0.0   0.0   0.0   0.0   0.0   0.0   0.0   0.0\n",
       "[2881]   0.0   0.0   0.0   0.0   0.0   0.0   0.0   0.0   0.0   0.0   0.0   0.0\n",
       "[2893]   0.0   0.0   0.0   0.0   0.0   0.0   0.0   0.0   0.0   0.0   0.0   0.0\n",
       "[2905]   0.0   0.0   0.0   0.0   0.0   0.0   0.0   0.0   0.0   0.0   0.0   0.0\n",
       "[2917]   0.0   0.0   0.0   0.0   0.0   0.0   0.0   0.0   0.0   0.0   0.0   0.0\n",
       "[2929]   0.0   0.0   0.0   0.0   0.0   0.0   0.0   0.0   0.0   0.0   0.0   0.0\n",
       "[2941]   0.0   0.0   0.0   0.0   0.0   0.0   0.0   0.0   0.0   0.0   0.0   0.0\n",
       "[2953]   0.0   0.0   0.0   0.0   0.0   0.0   0.0   0.0   0.0   0.0   0.0   0.0\n",
       "[2965]   0.0   0.0   0.0   0.0   0.0   0.0   0.0   0.0   0.0   0.0   0.0   0.0\n",
       "[2977]   0.0   0.0   0.0   0.0   0.0   0.0   0.0   0.0   0.0   0.0   0.0   0.0\n",
       "[2989]   0.0   0.0   0.0   0.0   0.0   0.0   0.0   0.0   0.0   0.0   0.0   0.0\n",
       "[3001]   0.0   0.0   0.0   0.0   0.0   0.0   0.0   0.0   0.0   0.0   0.0   0.0\n",
       "[3013]   0.0   0.0   0.0   0.0   0.0   0.0   0.0   0.0   0.0   0.0   0.0   0.0\n",
       "[3025]   0.0"
      ]
     },
     "metadata": {},
     "output_type": "display_data"
    },
    {
     "data": {
      "image/png": "[encoded data removed]",
      "text/plain": [
       "plot without title"
      ]
     },
     "metadata": {
      "image/png": {
       "height": 480,
       "width": 900
      }
     },
     "output_type": "display_data"
    }
   ],
   "source": [
    "# Classifying the RainfallTomorrow amount\n",
    "\n",
    "sort(perth$Rainfall , decreasing = T)\n",
    "plot(sort(perth$Rainfall , decreasing = T))"
   ]
  },
  {
   "cell_type": "code",
   "execution_count": 58,
   "id": "b0a1cd51",
   "metadata": {},
   "outputs": [
    {
     "data": {
      "image/png": "[encoded data removed]",
      "text/plain": [
       "plot without title"
      ]
     },
     "metadata": {
      "image/png": {
       "height": 480,
       "width": 900
      }
     },
     "output_type": "display_data"
    }
   ],
   "source": [
    "ggplot(perth, aes(x= Rainfall, fill = \"red\") ) + geom_histogram( binwidth = 2, color= \"white\") "
   ]
  },
  {
   "cell_type": "code",
   "execution_count": 60,
   "id": "7b235a5d",
   "metadata": {},
   "outputs": [
    {
     "data": {
      "image/png": "[encoded data removed]",
      "text/plain": [
       "plot without title"
      ]
     },
     "metadata": {
      "image/png": {
       "height": 480,
       "width": 900
      }
     },
     "output_type": "display_data"
    }
   ],
   "source": [
    "ggplot(perth, aes(x= Rainfall, fill = \"red\") ) + geom_histogram( bins = 5 , binwidth = 5, color= \"white\") "
   ]
  },
  {
   "cell_type": "code",
   "execution_count": 61,
   "id": "c68b0de1",
   "metadata": {},
   "outputs": [
    {
     "data": {
      "image/png": "[encoded data removed]",
      "text/plain": [
       "plot without title"
      ]
     },
     "metadata": {
      "image/png": {
       "height": 480,
       "width": 900
      }
     },
     "output_type": "display_data"
    }
   ],
   "source": [
    "ggplot(perth, aes(x= Rainfall, fill = \"red\") ) + geom_histogram( bins = 4) "
   ]
  },
  {
   "cell_type": "code",
   "execution_count": 62,
   "id": "7ab49ecc",
   "metadata": {},
   "outputs": [
    {
     "name": "stdout",
     "output_type": "stream",
     "text": [
      "'data.frame':\t3025 obs. of  24 variables:\n",
      " $ Date            : Date, format: \"2008-07-02\" \"2008-07-04\" ...\n",
      " $ Location        : Factor w/ 26 levels \"AliceSprings\",..: 16 16 16 16 16 16 16 16 16 16 ...\n",
      " $ MinTemp         : num  6.4 9.5 9.5 0.7 0.7 3.2 11.2 13.4 7.9 5.3 ...\n",
      " $ MaxTemp         : num  20.7 19.2 16.4 15.9 18.3 20.4 20.4 17.1 17.3 18.8 ...\n",
      " $ Rainfall        : num  0 1.8 1.8 6.8 0 0 4.6 2.6 4.4 0.2 ...\n",
      " $ Evaporation     : num  1.8 1.2 1.4 2.4 0.8 1.4 2.8 2.6 2.2 1 ...\n",
      " $ Sunshine        : num  7 4.7 4.9 9.3 9.3 6.9 1.7 4.2 5.4 2.3 ...\n",
      " $ WindGustDir     : Factor w/ 16 levels \"E\",\"ENE\",\"ESE\",..: 5 14 16 6 4 7 7 13 12 4 ...\n",
      " $ WindGustSpeed   : int  22 26 44 24 37 24 46 54 19 17 ...\n",
      " $ WindDir9am      : Factor w/ 16 levels \"E\",\"ENE\",\"ESE\",..: 3 6 14 2 5 5 5 13 4 5 ...\n",
      " $ WindDir3pm      : Factor w/ 16 levels \"E\",\"ENE\",\"ESE\",..: 2 7 13 5 6 4 6 13 12 14 ...\n",
      " $ WindSpeed9am    : int  6 11 13 4 15 9 19 26 7 7 ...\n",
      " $ WindSpeed3pm    : int  9 6 17 7 13 13 11 13 9 7 ...\n",
      " $ Humidity9am     : int  80 93 69 86 72 58 79 63 99 96 ...\n",
      " $ Humidity3pm     : int  39 73 57 41 36 42 50 77 59 63 ...\n",
      " $ Pressure9am     : num  1024 1019 1020 1032 1029 ...\n",
      " $ Pressure3pm     : num  1019 1018 1022 1030 1024 ...\n",
      " $ Cloud9am        : int  0 6 7 0 1 6 7 4 6 7 ...\n",
      " $ Cloud3pm        : int  6 6 5 1 5 5 7 7 7 6 ...\n",
      " $ Temp9am         : num  11.1 13.2 15.9 6.9 8.7 10.2 13.4 15.4 9.6 9.5 ...\n",
      " $ Temp3pm         : num  19.7 17.7 16 15.5 17.9 19.3 19 14.8 16.2 17.2 ...\n",
      " $ RainToday       : Factor w/ 2 levels \"No\",\"Yes\": 1 2 2 2 1 1 2 2 2 1 ...\n",
      " $ RainTomorrow    : Factor w/ 2 levels \"No\",\"Yes\": 1 2 2 1 1 2 2 2 1 1 ...\n",
      " $ RainfallTomorrow: num  1.8 1.8 6.8 0 0 4.6 2.6 4.4 0.2 0 ...\n"
     ]
    }
   ],
   "source": [
    "str(perth)"
   ]
  },
  {
   "cell_type": "code",
   "execution_count": 63,
   "id": "ff8defb7",
   "metadata": {},
   "outputs": [],
   "source": [
    "perth$RainfallTomorrow_class[perth$RainfallTomorrow >0 & perth$RainfallTomorrow <= 1] <- \"Very Low rainfall\"\n",
    "perth$RainfallTomorrow_class[perth$RainfallTomorrow >1 & perth$RainfallTomorrow <= 5] <- \"Low rainfall\"\n",
    "perth$RainfallTomorrow_class[perth$RainfallTomorrow >5 & perth$RainfallTomorrow <= 15] <- \"Medium rainfall\"\n",
    "perth$RainfallTomorrow_class[perth$RainfallTomorrow >15 ] <- \"High rainfall\""
   ]
  },
  {
   "cell_type": "code",
   "execution_count": 64,
   "id": "2b809861",
   "metadata": {},
   "outputs": [],
   "source": [
    "perth$RainfallToday_class[perth$Rainfall >0 & perth$Rainfall <= 1] <- \"Very Low rainfall\"\n",
    "perth$RainfallToday_class[perth$Rainfall >1 & perth$Rainfall <= 5] <- \"Low rainfall\"\n",
    "perth$RainfallToday_class[perth$Rainfall >5 & perth$Rainfall <= 15] <- \"Medium rainfall\"\n",
    "perth$RainfallToday_class[perth$Rainfall >15 ] <- \"High rainfall\"\n"
   ]
  },
  {
   "cell_type": "code",
   "execution_count": 65,
   "id": "4218bb07",
   "metadata": {},
   "outputs": [],
   "source": [
    "perth <- na.omit(perth)"
   ]
  },
  {
   "cell_type": "code",
   "execution_count": 66,
   "id": "a63f9769",
   "metadata": {},
   "outputs": [
    {
     "data": {
      "text/plain": [
       "\n",
       "    High rainfall      Low rainfall   Medium rainfall Very Low rainfall \n",
       "               64               158               140               143 "
      ]
     },
     "metadata": {},
     "output_type": "display_data"
    }
   ],
   "source": [
    "table(perth$RainfallTomorrow_class)"
   ]
  },
  {
   "cell_type": "code",
   "execution_count": 67,
   "id": "379fde4b",
   "metadata": {},
   "outputs": [
    {
     "data": {
      "text/plain": [
       "\n",
       "    High rainfall      Low rainfall   Medium rainfall Very Low rainfall \n",
       "               79               163               158               105 "
      ]
     },
     "metadata": {},
     "output_type": "display_data"
    }
   ],
   "source": [
    "table(perth$RainfallToday_class)\n"
   ]
  },
  {
   "cell_type": "code",
   "execution_count": 68,
   "id": "eec89461",
   "metadata": {},
   "outputs": [
    {
     "name": "stdout",
     "output_type": "stream",
     "text": [
      "'data.frame':\t505 obs. of  26 variables:\n",
      " $ Date                  : Date, format: \"2008-07-04\" \"2008-07-05\" ...\n",
      " $ Location              : Factor w/ 26 levels \"AliceSprings\",..: 16 16 16 16 16 16 16 16 16 16 ...\n",
      " $ MinTemp               : num  9.5 9.5 11.2 13.4 7.9 10.2 6.7 7.8 9 11.8 ...\n",
      " $ MaxTemp               : num  19.2 16.4 20.4 17.1 17.3 17.1 16.9 19.3 20.8 15.9 ...\n",
      " $ Rainfall              : num  1.8 1.8 4.6 2.6 4.4 24 2.6 12.6 4 5.4 ...\n",
      " $ Evaporation           : num  1.2 1.4 2.8 2.6 2.2 1.8 1.2 1.8 2 1.6 ...\n",
      " $ Sunshine              : num  4.7 4.9 1.7 4.2 5.4 6.7 3.9 9.4 1.3 2.2 ...\n",
      " $ WindGustDir           : Factor w/ 16 levels \"E\",\"ENE\",\"ESE\",..: 14 16 7 13 12 13 16 10 6 16 ...\n",
      " $ WindGustSpeed         : int  26 44 46 54 19 44 46 52 39 44 ...\n",
      " $ WindDir9am            : Factor w/ 16 levels \"E\",\"ENE\",\"ESE\",..: 6 14 5 13 4 13 5 1 5 4 ...\n",
      " $ WindDir3pm            : Factor w/ 16 levels \"E\",\"ENE\",\"ESE\",..: 7 13 6 13 12 16 7 4 14 14 ...\n",
      " $ WindSpeed9am          : int  11 13 19 26 7 19 9 4 11 11 ...\n",
      " $ WindSpeed3pm          : int  6 17 11 13 9 13 9 2 11 15 ...\n",
      " $ Humidity9am           : int  93 69 79 63 99 76 87 99 94 97 ...\n",
      " $ Humidity3pm           : int  73 57 50 77 59 54 75 50 87 81 ...\n",
      " $ Pressure9am           : num  1019 1020 1020 1015 1019 ...\n",
      " $ Pressure3pm           : num  1018 1022 1014 1015 1019 ...\n",
      " $ Cloud9am              : int  6 7 7 4 6 6 2 1 8 7 ...\n",
      " $ Cloud3pm              : int  6 5 7 7 7 3 7 2 7 7 ...\n",
      " $ Temp9am               : num  13.2 15.9 13.4 15.4 9.6 13.2 10.5 9 13.4 14.6 ...\n",
      " $ Temp3pm               : num  17.7 16 19 14.8 16.2 15.9 14.4 19.2 18.3 14.7 ...\n",
      " $ RainToday             : Factor w/ 2 levels \"No\",\"Yes\": 2 2 2 2 2 2 2 2 2 2 ...\n",
      " $ RainTomorrow          : Factor w/ 2 levels \"No\",\"Yes\": 2 2 2 2 1 2 2 2 2 2 ...\n",
      " $ RainfallTomorrow      : num  1.8 6.8 2.6 4.4 0.2 2.6 20.6 4 5.4 11.6 ...\n",
      " $ RainfallTomorrow_class: chr  \"Low rainfall\" \"Medium rainfall\" \"Low rainfall\" \"Low rainfall\" ...\n",
      " $ RainfallToday_class   : chr  \"Low rainfall\" \"Low rainfall\" \"Low rainfall\" \"Low rainfall\" ...\n",
      " - attr(*, \"na.action\")= 'omit' Named int [1:2520] 1 4 5 6 10 11 12 15 16 17 ...\n",
      "  ..- attr(*, \"names\")= chr [1:2520] \"120640\" \"120644\" \"120645\" \"120646\" ...\n"
     ]
    }
   ],
   "source": [
    "str(perth)"
   ]
  },
  {
   "cell_type": "code",
   "execution_count": 69,
   "id": "4c458bf8",
   "metadata": {},
   "outputs": [],
   "source": [
    "perth$RainfallTomorrow_class <- as.factor(perth$RainfallTomorrow_class)\n",
    "perth$RainfallToday_class <- as.factor(perth$RainfallToday_class)\n",
    "\n"
   ]
  },
  {
   "cell_type": "code",
   "execution_count": 70,
   "id": "cbc4b3d4",
   "metadata": {},
   "outputs": [
    {
     "name": "stdout",
     "output_type": "stream",
     "text": [
      "'data.frame':\t505 obs. of  26 variables:\n",
      " $ Date                  : Date, format: \"2008-07-04\" \"2008-07-05\" ...\n",
      " $ Location              : Factor w/ 26 levels \"AliceSprings\",..: 16 16 16 16 16 16 16 16 16 16 ...\n",
      " $ MinTemp               : num  9.5 9.5 11.2 13.4 7.9 10.2 6.7 7.8 9 11.8 ...\n",
      " $ MaxTemp               : num  19.2 16.4 20.4 17.1 17.3 17.1 16.9 19.3 20.8 15.9 ...\n",
      " $ Rainfall              : num  1.8 1.8 4.6 2.6 4.4 24 2.6 12.6 4 5.4 ...\n",
      " $ Evaporation           : num  1.2 1.4 2.8 2.6 2.2 1.8 1.2 1.8 2 1.6 ...\n",
      " $ Sunshine              : num  4.7 4.9 1.7 4.2 5.4 6.7 3.9 9.4 1.3 2.2 ...\n",
      " $ WindGustDir           : Factor w/ 16 levels \"E\",\"ENE\",\"ESE\",..: 14 16 7 13 12 13 16 10 6 16 ...\n",
      " $ WindGustSpeed         : int  26 44 46 54 19 44 46 52 39 44 ...\n",
      " $ WindDir9am            : Factor w/ 16 levels \"E\",\"ENE\",\"ESE\",..: 6 14 5 13 4 13 5 1 5 4 ...\n",
      " $ WindDir3pm            : Factor w/ 16 levels \"E\",\"ENE\",\"ESE\",..: 7 13 6 13 12 16 7 4 14 14 ...\n",
      " $ WindSpeed9am          : int  11 13 19 26 7 19 9 4 11 11 ...\n",
      " $ WindSpeed3pm          : int  6 17 11 13 9 13 9 2 11 15 ...\n",
      " $ Humidity9am           : int  93 69 79 63 99 76 87 99 94 97 ...\n",
      " $ Humidity3pm           : int  73 57 50 77 59 54 75 50 87 81 ...\n",
      " $ Pressure9am           : num  1019 1020 1020 1015 1019 ...\n",
      " $ Pressure3pm           : num  1018 1022 1014 1015 1019 ...\n",
      " $ Cloud9am              : int  6 7 7 4 6 6 2 1 8 7 ...\n",
      " $ Cloud3pm              : int  6 5 7 7 7 3 7 2 7 7 ...\n",
      " $ Temp9am               : num  13.2 15.9 13.4 15.4 9.6 13.2 10.5 9 13.4 14.6 ...\n",
      " $ Temp3pm               : num  17.7 16 19 14.8 16.2 15.9 14.4 19.2 18.3 14.7 ...\n",
      " $ RainToday             : Factor w/ 2 levels \"No\",\"Yes\": 2 2 2 2 2 2 2 2 2 2 ...\n",
      " $ RainTomorrow          : Factor w/ 2 levels \"No\",\"Yes\": 2 2 2 2 1 2 2 2 2 2 ...\n",
      " $ RainfallTomorrow      : num  1.8 6.8 2.6 4.4 0.2 2.6 20.6 4 5.4 11.6 ...\n",
      " $ RainfallTomorrow_class: Factor w/ 4 levels \"High rainfall\",..: 2 3 2 2 4 2 1 2 3 3 ...\n",
      " $ RainfallToday_class   : Factor w/ 4 levels \"High rainfall\",..: 2 2 2 2 2 1 2 3 2 3 ...\n",
      " - attr(*, \"na.action\")= 'omit' Named int [1:2520] 1 4 5 6 10 11 12 15 16 17 ...\n",
      "  ..- attr(*, \"names\")= chr [1:2520] \"120640\" \"120644\" \"120645\" \"120646\" ...\n"
     ]
    }
   ],
   "source": [
    "str(perth)"
   ]
  },
  {
   "cell_type": "code",
   "execution_count": 71,
   "id": "87442b85",
   "metadata": {},
   "outputs": [],
   "source": [
    "\n",
    "## Splitting Data set into Train and Test sets\n",
    "library(caTools)\n",
    "set.seed(1000)\n",
    "split <- sample.split(perth$RainfallTomorrow, SplitRatio = 0.8)\n",
    "ClTrain <- subset(perth, split==T,select = -c(Location,RainfallTomorrow,Rainfall))\n",
    "ClTest <- subset(perth, split==F,select = -c(Location,RainfallTomorrow,Rainfall))\n"
   ]
  },
  {
   "cell_type": "code",
   "execution_count": 72,
   "id": "e683687c",
   "metadata": {
    "scrolled": true
   },
   "outputs": [
    {
     "data": {
      "text/plain": [
       "CART \n",
       "\n",
       "412 samples\n",
       " 22 predictor\n",
       "  4 classes: 'High rainfall', 'Low rainfall', 'Medium rainfall', 'Very Low rainfall' \n",
       "\n",
       "No pre-processing\n",
       "Resampling: Cross-Validated (10 fold) \n",
       "Summary of sample sizes: 371, 369, 371, 370, 372, 372, ... \n",
       "Resampling results across tuning parameters:\n",
       "\n",
       "  cp     Accuracy   Kappa     \n",
       "  0.001  0.5921065  0.44395046\n",
       "  0.002  0.5945455  0.44696699\n",
       "  0.003  0.5945455  0.44696699\n",
       "  0.004  0.5966966  0.44923026\n",
       "  0.005  0.5966966  0.44923026\n",
       "  0.006  0.5991966  0.45279720\n",
       "  0.007  0.5991966  0.45279720\n",
       "  0.008  0.5844406  0.43188622\n",
       "  0.009  0.5844406  0.43188622\n",
       "  0.010  0.5890917  0.43796412\n",
       "  0.011  0.5890917  0.43796412\n",
       "  0.012  0.5939698  0.44287981\n",
       "  0.013  0.5939698  0.44287981\n",
       "  0.014  0.5865973  0.43391395\n",
       "  0.015  0.5865973  0.43391395\n",
       "  0.016  0.5770793  0.42116587\n",
       "  0.017  0.5770793  0.42060483\n",
       "  0.018  0.5890476  0.43456015\n",
       "  0.019  0.5820708  0.42448449\n",
       "  0.020  0.5772537  0.41628977\n",
       "  0.021  0.5749309  0.41228441\n",
       "  0.022  0.5749309  0.41272040\n",
       "  0.023  0.5798118  0.41785139\n",
       "  0.024  0.5749338  0.41017896\n",
       "  0.025  0.5749338  0.41017896\n",
       "  0.026  0.5749338  0.41017896\n",
       "  0.027  0.5749338  0.41017896\n",
       "  0.028  0.5749338  0.41017896\n",
       "  0.029  0.5749338  0.41017896\n",
       "  0.030  0.5799338  0.41718686\n",
       "  0.031  0.5799338  0.41718686\n",
       "  0.032  0.5799338  0.41628173\n",
       "  0.033  0.5799338  0.41628173\n",
       "  0.034  0.5799338  0.41628173\n",
       "  0.035  0.5799338  0.41628173\n",
       "  0.036  0.5799338  0.41580566\n",
       "  0.037  0.5799338  0.41580566\n",
       "  0.038  0.5799338  0.41580566\n",
       "  0.039  0.5799338  0.41679213\n",
       "  0.040  0.5799338  0.41679213\n",
       "  0.041  0.5799338  0.41679213\n",
       "  0.042  0.5799338  0.41679213\n",
       "  0.043  0.5799338  0.41679213\n",
       "  0.044  0.5799338  0.41679213\n",
       "  0.045  0.5799338  0.41679213\n",
       "  0.046  0.5799338  0.41679213\n",
       "  0.047  0.5750557  0.40854857\n",
       "  0.048  0.5750557  0.40854857\n",
       "  0.049  0.5750557  0.40854857\n",
       "  0.050  0.5750557  0.40854857\n",
       "  0.051  0.5750557  0.40854857\n",
       "  0.052  0.5750557  0.40854857\n",
       "  0.053  0.5750557  0.40854857\n",
       "  0.054  0.5750557  0.40854857\n",
       "  0.055  0.5750557  0.40854857\n",
       "  0.056  0.5750557  0.40854857\n",
       "  0.057  0.5750557  0.40854857\n",
       "  0.058  0.5750557  0.40854857\n",
       "  0.059  0.5750557  0.40854857\n",
       "  0.060  0.5750557  0.40854857\n",
       "  0.061  0.5750557  0.40854857\n",
       "  0.062  0.5750557  0.40854857\n",
       "  0.063  0.5750557  0.40854857\n",
       "  0.064  0.5750557  0.40854857\n",
       "  0.065  0.5750557  0.40854857\n",
       "  0.066  0.5774947  0.40900743\n",
       "  0.067  0.5774947  0.40900743\n",
       "  0.068  0.5774947  0.40900743\n",
       "  0.069  0.5774947  0.40900743\n",
       "  0.070  0.5774947  0.40900743\n",
       "  0.071  0.5822566  0.41320514\n",
       "  0.072  0.5822566  0.41320514\n",
       "  0.073  0.5822566  0.41320514\n",
       "  0.074  0.5798176  0.40897850\n",
       "  0.075  0.5798176  0.40897850\n",
       "  0.076  0.5798176  0.40897850\n",
       "  0.077  0.5798176  0.40897850\n",
       "  0.078  0.5798176  0.40897850\n",
       "  0.079  0.5798176  0.40897850\n",
       "  0.080  0.5798176  0.40897850\n",
       "  0.081  0.5798176  0.40897850\n",
       "  0.082  0.5798176  0.40897850\n",
       "  0.083  0.5798176  0.40897850\n",
       "  0.084  0.5798176  0.40897850\n",
       "  0.085  0.5798176  0.40897850\n",
       "  0.086  0.5628521  0.37979028\n",
       "  0.087  0.5628521  0.37979028\n",
       "  0.088  0.5628521  0.37979028\n",
       "  0.089  0.5628521  0.37979028\n",
       "  0.090  0.5604131  0.37365796\n",
       "  0.091  0.5604131  0.37365796\n",
       "  0.092  0.5604131  0.37365796\n",
       "  0.093  0.5604131  0.37365796\n",
       "  0.094  0.5604131  0.37365796\n",
       "  0.095  0.5604131  0.37365796\n",
       "  0.096  0.5604131  0.37365796\n",
       "  0.097  0.5604131  0.37365796\n",
       "  0.098  0.5604131  0.37365796\n",
       "  0.099  0.5604131  0.37365796\n",
       "  0.100  0.5604131  0.37365796\n",
       "  0.101  0.5604131  0.37365796\n",
       "  0.102  0.5604131  0.37365796\n",
       "  0.103  0.5604131  0.37365796\n",
       "  0.104  0.5604131  0.37365796\n",
       "  0.105  0.5604131  0.37365796\n",
       "  0.106  0.5604131  0.37365796\n",
       "  0.107  0.5604131  0.37365796\n",
       "  0.108  0.5604131  0.37365796\n",
       "  0.109  0.5604131  0.37365796\n",
       "  0.110  0.5604131  0.37365796\n",
       "  0.111  0.5604131  0.37365796\n",
       "  0.112  0.5604131  0.37365796\n",
       "  0.113  0.5604131  0.37365796\n",
       "  0.114  0.5604131  0.37365796\n",
       "  0.115  0.5604131  0.37365796\n",
       "  0.116  0.5604131  0.37365796\n",
       "  0.117  0.5604131  0.37365796\n",
       "  0.118  0.5604131  0.37365796\n",
       "  0.119  0.5604131  0.37365796\n",
       "  0.120  0.5604131  0.37365796\n",
       "  0.121  0.5604131  0.37365796\n",
       "  0.122  0.5604131  0.37365796\n",
       "  0.123  0.5604131  0.37365796\n",
       "  0.124  0.5604131  0.37365796\n",
       "  0.125  0.5604131  0.37365796\n",
       "  0.126  0.5604131  0.37365796\n",
       "  0.127  0.5604131  0.37365796\n",
       "  0.128  0.5604131  0.37365796\n",
       "  0.129  0.5604131  0.37365796\n",
       "  0.130  0.5604131  0.37365796\n",
       "  0.131  0.5604131  0.37365796\n",
       "  0.132  0.5604131  0.37365796\n",
       "  0.133  0.5604131  0.37365796\n",
       "  0.134  0.5604131  0.37365796\n",
       "  0.135  0.5604131  0.37365796\n",
       "  0.136  0.5604131  0.37365796\n",
       "  0.137  0.5604131  0.37365796\n",
       "  0.138  0.5604131  0.37365796\n",
       "  0.139  0.5604131  0.37365796\n",
       "  0.140  0.5604131  0.37365796\n",
       "  0.141  0.5604131  0.37365796\n",
       "  0.142  0.5604131  0.37365796\n",
       "  0.143  0.5604131  0.37365796\n",
       "  0.144  0.5604131  0.37365796\n",
       "  0.145  0.5604131  0.37365796\n",
       "  0.146  0.5604131  0.37365796\n",
       "  0.147  0.5604131  0.37365796\n",
       "  0.148  0.5604131  0.37365796\n",
       "  0.149  0.5604131  0.37365796\n",
       "  0.150  0.5604131  0.37365796\n",
       "  0.151  0.5604131  0.37365796\n",
       "  0.152  0.5604131  0.37365796\n",
       "  0.153  0.5604131  0.37365796\n",
       "  0.154  0.5604131  0.37365796\n",
       "  0.155  0.5604131  0.37365796\n",
       "  0.156  0.5604131  0.37365796\n",
       "  0.157  0.5604131  0.37365796\n",
       "  0.158  0.5604131  0.37365796\n",
       "  0.159  0.5604131  0.37365796\n",
       "  0.160  0.5604131  0.37365796\n",
       "  0.161  0.5604131  0.37365796\n",
       "  0.162  0.5604131  0.37365796\n",
       "  0.163  0.5604131  0.37365796\n",
       "  0.164  0.5604131  0.37365796\n",
       "  0.165  0.5604131  0.37365796\n",
       "  0.166  0.5604131  0.37365796\n",
       "  0.167  0.5604131  0.37365796\n",
       "  0.168  0.5604131  0.37365796\n",
       "  0.169  0.5604131  0.37365796\n",
       "  0.170  0.5604131  0.37365796\n",
       "  0.171  0.5604131  0.37365796\n",
       "  0.172  0.5604131  0.37365796\n",
       "  0.173  0.5604131  0.37365796\n",
       "  0.174  0.5604131  0.37365796\n",
       "  0.175  0.5604131  0.37365796\n",
       "  0.176  0.5604131  0.37365796\n",
       "  0.177  0.5604131  0.37365796\n",
       "  0.178  0.5604131  0.37365796\n",
       "  0.179  0.5604131  0.37365796\n",
       "  0.180  0.5604131  0.37365796\n",
       "  0.181  0.5604131  0.37365796\n",
       "  0.182  0.5604131  0.37365796\n",
       "  0.183  0.5604131  0.37365796\n",
       "  0.184  0.5604131  0.37365796\n",
       "  0.185  0.5604131  0.37365796\n",
       "  0.186  0.5604131  0.37365796\n",
       "  0.187  0.5604131  0.37365796\n",
       "  0.188  0.5604131  0.37365796\n",
       "  0.189  0.5604131  0.37365796\n",
       "  0.190  0.5604131  0.37365796\n",
       "  0.191  0.5604131  0.37365796\n",
       "  0.192  0.5604131  0.37365796\n",
       "  0.193  0.5604131  0.37365796\n",
       "  0.194  0.5604131  0.37365796\n",
       "  0.195  0.5604131  0.37365796\n",
       "  0.196  0.5604131  0.37365796\n",
       "  0.197  0.5604131  0.37365796\n",
       "  0.198  0.5604131  0.37365796\n",
       "  0.199  0.5604131  0.37365796\n",
       "  0.200  0.5604131  0.37365796\n",
       "  0.201  0.5604131  0.37365796\n",
       "  0.202  0.5604131  0.37365796\n",
       "  0.203  0.5604131  0.37365796\n",
       "  0.204  0.5604131  0.37365796\n",
       "  0.205  0.5604131  0.37365796\n",
       "  0.206  0.5604131  0.37365796\n",
       "  0.207  0.5604131  0.37365796\n",
       "  0.208  0.5604131  0.37365796\n",
       "  0.209  0.5604131  0.37365796\n",
       "  0.210  0.5604131  0.37365796\n",
       "  0.211  0.5604131  0.37365796\n",
       "  0.212  0.5604131  0.37365796\n",
       "  0.213  0.5604131  0.37365796\n",
       "  0.214  0.5604131  0.37365796\n",
       "  0.215  0.5604131  0.37365796\n",
       "  0.216  0.5604131  0.37365796\n",
       "  0.217  0.5604131  0.37365796\n",
       "  0.218  0.5604131  0.37365796\n",
       "  0.219  0.5604131  0.37365796\n",
       "  0.220  0.5604131  0.37365796\n",
       "  0.221  0.5604131  0.37365796\n",
       "  0.222  0.5604131  0.37365796\n",
       "  0.223  0.5604131  0.37365796\n",
       "  0.224  0.5604131  0.37365796\n",
       "  0.225  0.5604131  0.37365796\n",
       "  0.226  0.5604131  0.37365796\n",
       "  0.227  0.5604131  0.37365796\n",
       "  0.228  0.5604131  0.37365796\n",
       "  0.229  0.5604131  0.37365796\n",
       "  0.230  0.5604131  0.37365796\n",
       "  0.231  0.5604131  0.37365796\n",
       "  0.232  0.5604131  0.37365796\n",
       "  0.233  0.5604131  0.37365796\n",
       "  0.234  0.5604131  0.37365796\n",
       "  0.235  0.5604131  0.37365796\n",
       "  0.236  0.5604131  0.37365796\n",
       "  0.237  0.5604131  0.37365796\n",
       "  0.238  0.5604131  0.37365796\n",
       "  0.239  0.5604131  0.37365796\n",
       "  0.240  0.5604131  0.37365796\n",
       "  0.241  0.5604131  0.37365796\n",
       "  0.242  0.5604131  0.37365796\n",
       "  0.243  0.5604131  0.37365796\n",
       "  0.244  0.5604131  0.37365796\n",
       "  0.245  0.5604131  0.37365796\n",
       "  0.246  0.5604131  0.37365796\n",
       "  0.247  0.5604131  0.37365796\n",
       "  0.248  0.5604131  0.37365796\n",
       "  0.249  0.5604131  0.37365796\n",
       "  0.250  0.5604131  0.37365796\n",
       "  0.251  0.5604131  0.37365796\n",
       "  0.252  0.5604131  0.37365796\n",
       "  0.253  0.5604131  0.37365796\n",
       "  0.254  0.5604131  0.37365796\n",
       "  0.255  0.5604131  0.37365796\n",
       "  0.256  0.5604131  0.37365796\n",
       "  0.257  0.5604131  0.37365796\n",
       "  0.258  0.5604131  0.37365796\n",
       "  0.259  0.5604131  0.37365796\n",
       "  0.260  0.5604131  0.37365796\n",
       "  0.261  0.5604131  0.37365796\n",
       "  0.262  0.5604131  0.37365796\n",
       "  0.263  0.5604131  0.37365796\n",
       "  0.264  0.5604131  0.37365796\n",
       "  0.265  0.5604131  0.37365796\n",
       "  0.266  0.5604131  0.37365796\n",
       "  0.267  0.5604131  0.37365796\n",
       "  0.268  0.5604131  0.37365796\n",
       "  0.269  0.5604131  0.37365796\n",
       "  0.270  0.5604131  0.37365796\n",
       "  0.271  0.5604131  0.37365796\n",
       "  0.272  0.5604131  0.37365796\n",
       "  0.273  0.5604131  0.37365796\n",
       "  0.274  0.5604131  0.37365796\n",
       "  0.275  0.5604131  0.37365796\n",
       "  0.276  0.5604131  0.37365796\n",
       "  0.277  0.5604131  0.37365796\n",
       "  0.278  0.5604131  0.37365796\n",
       "  0.279  0.5604131  0.37365796\n",
       "  0.280  0.5604131  0.37365796\n",
       "  0.281  0.5604131  0.37365796\n",
       "  0.282  0.5604131  0.37365796\n",
       "  0.283  0.5604131  0.37365796\n",
       "  0.284  0.5604131  0.37365796\n",
       "  0.285  0.5604131  0.37365796\n",
       "  0.286  0.5604131  0.37365796\n",
       "  0.287  0.5604131  0.37365796\n",
       "  0.288  0.5604131  0.37365796\n",
       "  0.289  0.5604131  0.37365796\n",
       "  0.290  0.5604131  0.37365796\n",
       "  0.291  0.5604131  0.37365796\n",
       "  0.292  0.5604131  0.37365796\n",
       "  0.293  0.5604131  0.37365796\n",
       "  0.294  0.5604131  0.37365796\n",
       "  0.295  0.5604131  0.37365796\n",
       "  0.296  0.5604131  0.37365796\n",
       "  0.297  0.5604131  0.37365796\n",
       "  0.298  0.5604131  0.37365796\n",
       "  0.299  0.5604131  0.37365796\n",
       "  0.300  0.5604131  0.37365796\n",
       "  0.301  0.5604131  0.37365796\n",
       "  0.302  0.5604131  0.37365796\n",
       "  0.303  0.5604131  0.37365796\n",
       "  0.304  0.5604131  0.37365796\n",
       "  0.305  0.5604131  0.37365796\n",
       "  0.306  0.5604131  0.37365796\n",
       "  0.307  0.5604131  0.37365796\n",
       "  0.308  0.5604131  0.37365796\n",
       "  0.309  0.5604131  0.37365796\n",
       "  0.310  0.5604131  0.37365796\n",
       "  0.311  0.5604131  0.37365796\n",
       "  0.312  0.5604131  0.37365796\n",
       "  0.313  0.5604131  0.37365796\n",
       "  0.314  0.5604131  0.37365796\n",
       "  0.315  0.5604131  0.37365796\n",
       "  0.316  0.5604131  0.37365796\n",
       "  0.317  0.5604131  0.37365796\n",
       "  0.318  0.5604131  0.37365796\n",
       "  0.319  0.5604131  0.37365796\n",
       "  0.320  0.5604131  0.37365796\n",
       "  0.321  0.5604131  0.37365796\n",
       "  0.322  0.5604131  0.37365796\n",
       "  0.323  0.5604131  0.37365796\n",
       "  0.324  0.5604131  0.37365796\n",
       "  0.325  0.5604131  0.37365796\n",
       "  0.326  0.5604131  0.37365796\n",
       "  0.327  0.5604131  0.37365796\n",
       "  0.328  0.5604131  0.37365796\n",
       "  0.329  0.5604131  0.37365796\n",
       "  0.330  0.5604131  0.37365796\n",
       "  0.331  0.5604131  0.37365796\n",
       "  0.332  0.5604131  0.37365796\n",
       "  0.333  0.5604131  0.37365796\n",
       "  0.334  0.5604131  0.37365796\n",
       "  0.335  0.5604131  0.37365796\n",
       "  0.336  0.5604131  0.37365796\n",
       "  0.337  0.5604131  0.37365796\n",
       "  0.338  0.5604131  0.37365796\n",
       "  0.339  0.5604131  0.37365796\n",
       "  0.340  0.5604131  0.37365796\n",
       "  0.341  0.5604131  0.37365796\n",
       "  0.342  0.5604131  0.37365796\n",
       "  0.343  0.5604131  0.37365796\n",
       "  0.344  0.5604131  0.37365796\n",
       "  0.345  0.5604131  0.37365796\n",
       "  0.346  0.5604131  0.37365796\n",
       "  0.347  0.5604131  0.37365796\n",
       "  0.348  0.5604131  0.37365796\n",
       "  0.349  0.5604131  0.37365796\n",
       "  0.350  0.5604131  0.37365796\n",
       "  0.351  0.5604131  0.37365796\n",
       "  0.352  0.5604131  0.37365796\n",
       "  0.353  0.5604131  0.37365796\n",
       "  0.354  0.5604131  0.37365796\n",
       "  0.355  0.5604131  0.37365796\n",
       "  0.356  0.5604131  0.37365796\n",
       "  0.357  0.5604131  0.37365796\n",
       "  0.358  0.5604131  0.37365796\n",
       "  0.359  0.5604131  0.37365796\n",
       "  0.360  0.5604131  0.37365796\n",
       "  0.361  0.5604131  0.37365796\n",
       "  0.362  0.5318416  0.33170674\n",
       "  0.363  0.5318416  0.33170674\n",
       "  0.364  0.5039346  0.29115375\n",
       "  0.365  0.4496054  0.21085018\n",
       "  0.366  0.4227761  0.17291915\n",
       "  0.367  0.4227761  0.17291915\n",
       "  0.368  0.3965856  0.13625248\n",
       "  0.369  0.3478051  0.06262234\n",
       "  0.370  0.3478051  0.06262234\n",
       "  0.371  0.3478051  0.06262234\n",
       "  0.372  0.3478051  0.06262234\n",
       "  0.373  0.3258539  0.02920354\n",
       "  0.374  0.3258539  0.02920354\n",
       "  0.375  0.3258539  0.02920354\n",
       "  0.376  0.3058539  0.00000000\n",
       "  0.377  0.3058539  0.00000000\n",
       "  0.378  0.3058539  0.00000000\n",
       "  0.379  0.3058539  0.00000000\n",
       "  0.380  0.3058539  0.00000000\n",
       "  0.381  0.3058539  0.00000000\n",
       "  0.382  0.3058539  0.00000000\n",
       "  0.383  0.3058539  0.00000000\n",
       "  0.384  0.3058539  0.00000000\n",
       "  0.385  0.3058539  0.00000000\n",
       "  0.386  0.3058539  0.00000000\n",
       "  0.387  0.3058539  0.00000000\n",
       "  0.388  0.3058539  0.00000000\n",
       "  0.389  0.3058539  0.00000000\n",
       "  0.390  0.3058539  0.00000000\n",
       "  0.391  0.3058539  0.00000000\n",
       "  0.392  0.3058539  0.00000000\n",
       "  0.393  0.3058539  0.00000000\n",
       "  0.394  0.3058539  0.00000000\n",
       "  0.395  0.3058539  0.00000000\n",
       "  0.396  0.3058539  0.00000000\n",
       "  0.397  0.3058539  0.00000000\n",
       "  0.398  0.3058539  0.00000000\n",
       "  0.399  0.3058539  0.00000000\n",
       "  0.400  0.3058539  0.00000000\n",
       "\n",
       "Accuracy was used to select the optimal model using the largest value.\n",
       "The final value used for the model was cp = 0.007."
      ]
     },
     "metadata": {},
     "output_type": "display_data"
    }
   ],
   "source": [
    "\n",
    "## Fitting CART model\n",
    "\n",
    "numFolds <- trainControl(method = \"cv\", number = 10)\n",
    "cpGrid <- expand.grid(.cp=seq(0.001, 0.4, 0.001))\n",
    "train(RainfallTomorrow_class ~., data=ClTrain, method=\"rpart\", trControl= numFolds, tuneGrid= cpGrid)"
   ]
  },
  {
   "cell_type": "code",
   "execution_count": 73,
   "id": "ac822bed",
   "metadata": {},
   "outputs": [
    {
     "data": {
      "image/png": "[encoded data removed]",
      "text/plain": [
       "plot without title"
      ]
     },
     "metadata": {
      "image/png": {
       "height": 480,
       "width": 900
      }
     },
     "output_type": "display_data"
    }
   ],
   "source": [
    "t.mod <- rpart(RainfallTomorrow_class ~ .-Date , data=ClTrain, method=\"class\", cp = 0.007)\n",
    "prp(t.mod)"
   ]
  },
  {
   "cell_type": "code",
   "execution_count": 74,
   "id": "73d1c448",
   "metadata": {},
   "outputs": [
    {
     "data": {
      "text/html": [
       "0.655913978494624"
      ],
      "text/latex": [
       "0.655913978494624"
      ],
      "text/markdown": [
       "0.655913978494624"
      ],
      "text/plain": [
       "[1] 0.655914"
      ]
     },
     "metadata": {},
     "output_type": "display_data"
    }
   ],
   "source": [
    "pred.tree <- predict(t.mod, newdata = ClTest, type=\"class\")\n",
    "cartmod  <-  table(ClTest$RainfallTomorrow_class, pred.tree)\n",
    "sum(diag(cartmod))/nrow(ClTest)\n"
   ]
  },
  {
   "cell_type": "code",
   "execution_count": 75,
   "id": "43bc50aa",
   "metadata": {},
   "outputs": [
    {
     "data": {
      "text/plain": [
       "\n",
       "Call:\n",
       " randomForest(formula = RainfallTomorrow_class ~ . - Date, data = ClTrain,      nodsize = 5, ntree = 500, mtry = 3) \n",
       "               Type of random forest: classification\n",
       "                     Number of trees: 500\n",
       "No. of variables tried at each split: 3\n",
       "\n",
       "        OOB estimate of  error rate: 38.83%\n",
       "Confusion matrix:\n",
       "                  High rainfall Low rainfall Medium rainfall Very Low rainfall\n",
       "High rainfall                 8           17              36                 1\n",
       "Low rainfall                  4           87              32                 3\n",
       "Medium rainfall              16           45              49                 0\n",
       "Very Low rainfall             1            4               1               108\n",
       "                  class.error\n",
       "High rainfall      0.87096774\n",
       "Low rainfall       0.30952381\n",
       "Medium rainfall    0.55454545\n",
       "Very Low rainfall  0.05263158"
      ]
     },
     "metadata": {},
     "output_type": "display_data"
    }
   ],
   "source": [
    "## Fitting RandomForest model\n",
    "rf.model <- randomForest(RainfallTomorrow_class ~ .-Date  , data=ClTrain, nodsize=5, ntree=500, mtry=3)\n",
    "rf.model"
   ]
  },
  {
   "cell_type": "code",
   "execution_count": 76,
   "id": "730057c7",
   "metadata": {},
   "outputs": [
    {
     "data": {
      "text/html": [
       "0.494623655913978"
      ],
      "text/latex": [
       "0.494623655913978"
      ],
      "text/markdown": [
       "0.494623655913978"
      ],
      "text/plain": [
       "[1] 0.4946237"
      ]
     },
     "metadata": {},
     "output_type": "display_data"
    }
   ],
   "source": [
    "pred.rf <- predict(rf.model, newdata = ClTest)\n",
    "forestmod  <-  table(ClTest$RainTomorrow, pred.rf)\n",
    "sum(diag(forestmod))/nrow(ClTest)\n"
   ]
  }
 ],
 "metadata": {
  "kernelspec": {
   "display_name": "R",
   "language": "R",
   "name": "ir"
  },
  "language_info": {
   "codemirror_mode": "r",
   "file_extension": ".r",
   "mimetype": "text/x-r-source",
   "name": "R",
   "pygments_lexer": "r",
   "version": "4.0.4"
  }
 },
 "nbformat": 4,
 "nbformat_minor": 5
}
